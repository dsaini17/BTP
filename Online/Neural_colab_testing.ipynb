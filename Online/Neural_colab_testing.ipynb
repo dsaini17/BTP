{
  "nbformat": 4,
  "nbformat_minor": 0,
  "metadata": {
    "colab": {
      "name": "Neural_colab_testing.ipynb",
      "version": "0.3.2",
      "views": {},
      "default_view": {},
      "provenance": [],
      "collapsed_sections": [
        "ipk8-NsbBsmm",
        "82-tcZYMB4hY",
        "LAe3z_rQCHtC",
        "aJvg3-OsEwmw"
      ],
      "toc_visible": true
    },
    "kernelspec": {
      "name": "python3",
      "display_name": "Python 3"
    },
    "accelerator": "GPU"
  },
  "cells": [
    {
      "metadata": {
        "id": "ipk8-NsbBsmm",
        "colab_type": "text"
      },
      "cell_type": "markdown",
      "source": [
        "# Kaggle API"
      ]
    },
    {
      "metadata": {
        "id": "BlZPOcQV--0h",
        "colab_type": "code",
        "colab": {
          "autoexec": {
            "startup": false,
            "wait_interval": 0
          },
          "resources": {
            "http://localhost:8080/nbextensions/google.colab/files.js": {
              "data": "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",
              "ok": true,
              "headers": [
                [
                  "content-type",
                  "application/javascript"
                ]
              ],
              "status": 200,
              "status_text": ""
            }
          },
          "base_uri": "https://localhost:8080/",
          "height": 309
        },
        "cellView": "code",
        "outputId": "7f14e45a-9ee6-4448-d6e1-1ad90de6d91b",
        "executionInfo": {
          "status": "ok",
          "timestamp": 1526510813367,
          "user_tz": -330,
          "elapsed": 22707,
          "user": {
            "displayName": "Devesh Saini",
            "photoUrl": "//lh5.googleusercontent.com/-ULsfV-SFjXw/AAAAAAAAAAI/AAAAAAAAFG4/vbqK1p4TOZ4/s50-c-k-no/photo.jpg",
            "userId": "104632412090252973797"
          }
        }
      },
      "cell_type": "code",
      "source": [
        "!pip install kaggle\n",
        "from google.colab import files\n",
        "uploaded = files.upload()"
      ],
      "execution_count": 1,
      "outputs": [
        {
          "output_type": "stream",
          "text": [
            "Collecting kaggle\n",
            "  Downloading https://files.pythonhosted.org/packages/bd/a6/d93a9492ad8f31b1a0d17225acfa066a38a27f5fc2ce9fc5034a7003fff1/kaggle-1.3.6.tar.gz\n",
            "Requirement already satisfied: urllib3>=1.15 in /usr/local/lib/python3.6/dist-packages (from kaggle) (1.22)\n",
            "Requirement already satisfied: six>=1.10 in /usr/local/lib/python3.6/dist-packages (from kaggle) (1.11.0)\n",
            "Requirement already satisfied: certifi in /usr/local/lib/python3.6/dist-packages (from kaggle) (2018.4.16)\n",
            "Requirement already satisfied: python-dateutil in /usr/local/lib/python3.6/dist-packages (from kaggle) (2.5.3)\n",
            "Building wheels for collected packages: kaggle\n",
            "  Running setup.py bdist_wheel for kaggle ... \u001b[?25l-\b \b\\\b \bdone\n",
            "\u001b[?25h  Stored in directory: /content/.cache/pip/wheels/98/be/57/a576a1f2f50f5c3bebd0c08fc3b2a6881dfde31c8217014978\n",
            "Successfully built kaggle\n",
            "Installing collected packages: kaggle\n",
            "Successfully installed kaggle-1.3.6\n"
          ],
          "name": "stdout"
        },
        {
          "output_type": "display_data",
          "data": {
            "text/html": [
              "\n",
              "     <input type=\"file\" id=\"files-88344390-e7a1-4c05-a2da-a48ee79b4f85\" name=\"files[]\" multiple disabled />\n",
              "     <output id=\"result-88344390-e7a1-4c05-a2da-a48ee79b4f85\">\n",
              "      Upload widget is only available when the cell has been executed in the\n",
              "      current browser session. Please rerun this cell to enable.\n",
              "      </output>\n",
              "      <script src=\"/nbextensions/google.colab/files.js\"></script> "
            ],
            "text/plain": [
              "<IPython.core.display.HTML object>"
            ]
          },
          "metadata": {
            "tags": []
          }
        },
        {
          "output_type": "stream",
          "text": [
            "Saving kaggle.json to kaggle.json\n"
          ],
          "name": "stdout"
        }
      ]
    },
    {
      "metadata": {
        "id": "82-tcZYMB4hY",
        "colab_type": "text"
      },
      "cell_type": "markdown",
      "source": [
        "# Downloading Dataset"
      ]
    },
    {
      "metadata": {
        "id": "o2_j1ZcyArWO",
        "colab_type": "code",
        "colab": {
          "autoexec": {
            "startup": false,
            "wait_interval": 0
          },
          "base_uri": "https://localhost:8080/",
          "height": 271
        },
        "outputId": "37d9fcdb-1df8-4c29-8ba5-2139d6183a5c",
        "executionInfo": {
          "status": "ok",
          "timestamp": 1526510829653,
          "user_tz": -330,
          "elapsed": 12742,
          "user": {
            "displayName": "Devesh Saini",
            "photoUrl": "//lh5.googleusercontent.com/-ULsfV-SFjXw/AAAAAAAAAAI/AAAAAAAAFG4/vbqK1p4TOZ4/s50-c-k-no/photo.jpg",
            "userId": "104632412090252973797"
          }
        }
      },
      "cell_type": "code",
      "source": [
        "import os\n",
        "! mkdir .kaggle\n",
        "! mv kaggle.json .kaggle/\n",
        "! kaggle competitions download -c challenges-in-representation-learning-facial-expression-recognition-challenge --force\n",
        "! cp \".kaggle/competitions/challenges-in-representation-learning-facial-expression-recognition-challenge/fer2013.tar.gz\" .\n",
        "! tar -xzf fer2013.tar.gz\n",
        "os.listdir()"
      ],
      "execution_count": 2,
      "outputs": [
        {
          "output_type": "stream",
          "text": [
            "Warning: Your Kaggle API key is readable by other users on this system! To fix this, you can run 'chmod 600 /content/.kaggle/kaggle.json'\n",
            "example_submission.csv: Downloaded 7KB of 7KB\n",
            "fer2013.tar.gz: Downloaded 92MB of 92MB\n"
          ],
          "name": "stdout"
        },
        {
          "output_type": "execute_result",
          "data": {
            "text/plain": [
              "['datalab',\n",
              " '.rnd',\n",
              " '.ipython',\n",
              " '.local',\n",
              " '.forever',\n",
              " 'fer2013.tar.gz',\n",
              " '.kaggle',\n",
              " '.config',\n",
              " '.cache',\n",
              " 'fer2013']"
            ]
          },
          "metadata": {
            "tags": []
          },
          "execution_count": 2
        }
      ]
    },
    {
      "metadata": {
        "id": "LAe3z_rQCHtC",
        "colab_type": "text"
      },
      "cell_type": "markdown",
      "source": [
        "# Data Preprocessing"
      ]
    },
    {
      "metadata": {
        "id": "eMNCbta0CLiq",
        "colab_type": "code",
        "colab": {
          "autoexec": {
            "startup": false,
            "wait_interval": 0
          }
        }
      },
      "cell_type": "code",
      "source": [
        "import numpy as np\n",
        "import pandas as pd\n",
        "import matplotlib.pyplot as plt\n"
      ],
      "execution_count": 0,
      "outputs": []
    },
    {
      "metadata": {
        "id": "8zXUm4ExCPc9",
        "colab_type": "code",
        "colab": {
          "autoexec": {
            "startup": false,
            "wait_interval": 0
          },
          "base_uri": "https://localhost:8080/",
          "height": 1969
        },
        "outputId": "05dcdc0f-514d-4728-e3cf-36d8fafd27ba",
        "executionInfo": {
          "status": "ok",
          "timestamp": 1526510840721,
          "user_tz": -330,
          "elapsed": 5391,
          "user": {
            "displayName": "Devesh Saini",
            "photoUrl": "//lh5.googleusercontent.com/-ULsfV-SFjXw/AAAAAAAAAAI/AAAAAAAAFG4/vbqK1p4TOZ4/s50-c-k-no/photo.jpg",
            "userId": "104632412090252973797"
          }
        }
      },
      "cell_type": "code",
      "source": [
        "dataset = pd.read_csv('fer2013/fer2013.csv')\n",
        "dataset"
      ],
      "execution_count": 4,
      "outputs": [
        {
          "output_type": "execute_result",
          "data": {
            "text/html": [
              "<div>\n",
              "<style scoped>\n",
              "    .dataframe tbody tr th:only-of-type {\n",
              "        vertical-align: middle;\n",
              "    }\n",
              "\n",
              "    .dataframe tbody tr th {\n",
              "        vertical-align: top;\n",
              "    }\n",
              "\n",
              "    .dataframe thead th {\n",
              "        text-align: right;\n",
              "    }\n",
              "</style>\n",
              "<table border=\"1\" class=\"dataframe\">\n",
              "  <thead>\n",
              "    <tr style=\"text-align: right;\">\n",
              "      <th></th>\n",
              "      <th>emotion</th>\n",
              "      <th>pixels</th>\n",
              "      <th>Usage</th>\n",
              "    </tr>\n",
              "  </thead>\n",
              "  <tbody>\n",
              "    <tr>\n",
              "      <th>0</th>\n",
              "      <td>0</td>\n",
              "      <td>70 80 82 72 58 58 60 63 54 58 60 48 89 115 121...</td>\n",
              "      <td>Training</td>\n",
              "    </tr>\n",
              "    <tr>\n",
              "      <th>1</th>\n",
              "      <td>0</td>\n",
              "      <td>151 150 147 155 148 133 111 140 170 174 182 15...</td>\n",
              "      <td>Training</td>\n",
              "    </tr>\n",
              "    <tr>\n",
              "      <th>2</th>\n",
              "      <td>2</td>\n",
              "      <td>231 212 156 164 174 138 161 173 182 200 106 38...</td>\n",
              "      <td>Training</td>\n",
              "    </tr>\n",
              "    <tr>\n",
              "      <th>3</th>\n",
              "      <td>4</td>\n",
              "      <td>24 32 36 30 32 23 19 20 30 41 21 22 32 34 21 1...</td>\n",
              "      <td>Training</td>\n",
              "    </tr>\n",
              "    <tr>\n",
              "      <th>4</th>\n",
              "      <td>6</td>\n",
              "      <td>4 0 0 0 0 0 0 0 0 0 0 0 3 15 23 28 48 50 58 84...</td>\n",
              "      <td>Training</td>\n",
              "    </tr>\n",
              "    <tr>\n",
              "      <th>5</th>\n",
              "      <td>2</td>\n",
              "      <td>55 55 55 55 55 54 60 68 54 85 151 163 170 179 ...</td>\n",
              "      <td>Training</td>\n",
              "    </tr>\n",
              "    <tr>\n",
              "      <th>6</th>\n",
              "      <td>4</td>\n",
              "      <td>20 17 19 21 25 38 42 42 46 54 56 62 63 66 82 1...</td>\n",
              "      <td>Training</td>\n",
              "    </tr>\n",
              "    <tr>\n",
              "      <th>7</th>\n",
              "      <td>3</td>\n",
              "      <td>77 78 79 79 78 75 60 55 47 48 58 73 77 79 57 5...</td>\n",
              "      <td>Training</td>\n",
              "    </tr>\n",
              "    <tr>\n",
              "      <th>8</th>\n",
              "      <td>3</td>\n",
              "      <td>85 84 90 121 101 102 133 153 153 169 177 189 1...</td>\n",
              "      <td>Training</td>\n",
              "    </tr>\n",
              "    <tr>\n",
              "      <th>9</th>\n",
              "      <td>2</td>\n",
              "      <td>255 254 255 254 254 179 122 107 95 124 149 150...</td>\n",
              "      <td>Training</td>\n",
              "    </tr>\n",
              "    <tr>\n",
              "      <th>10</th>\n",
              "      <td>0</td>\n",
              "      <td>30 24 21 23 25 25 49 67 84 103 120 125 130 139...</td>\n",
              "      <td>Training</td>\n",
              "    </tr>\n",
              "    <tr>\n",
              "      <th>11</th>\n",
              "      <td>6</td>\n",
              "      <td>39 75 78 58 58 45 49 48 103 156 81 45 41 38 49...</td>\n",
              "      <td>Training</td>\n",
              "    </tr>\n",
              "    <tr>\n",
              "      <th>12</th>\n",
              "      <td>6</td>\n",
              "      <td>219 213 206 202 209 217 216 215 219 218 223 23...</td>\n",
              "      <td>Training</td>\n",
              "    </tr>\n",
              "    <tr>\n",
              "      <th>13</th>\n",
              "      <td>6</td>\n",
              "      <td>148 144 130 129 119 122 129 131 139 153 140 12...</td>\n",
              "      <td>Training</td>\n",
              "    </tr>\n",
              "    <tr>\n",
              "      <th>14</th>\n",
              "      <td>3</td>\n",
              "      <td>4 2 13 41 56 62 67 87 95 62 65 70 80 107 127 1...</td>\n",
              "      <td>Training</td>\n",
              "    </tr>\n",
              "    <tr>\n",
              "      <th>15</th>\n",
              "      <td>5</td>\n",
              "      <td>107 107 109 109 109 109 110 101 123 140 144 14...</td>\n",
              "      <td>Training</td>\n",
              "    </tr>\n",
              "    <tr>\n",
              "      <th>16</th>\n",
              "      <td>3</td>\n",
              "      <td>14 14 18 28 27 22 21 30 42 61 77 86 88 95 100 ...</td>\n",
              "      <td>Training</td>\n",
              "    </tr>\n",
              "    <tr>\n",
              "      <th>17</th>\n",
              "      <td>2</td>\n",
              "      <td>255 255 255 255 255 255 255 255 255 255 255 25...</td>\n",
              "      <td>Training</td>\n",
              "    </tr>\n",
              "    <tr>\n",
              "      <th>18</th>\n",
              "      <td>6</td>\n",
              "      <td>134 124 167 180 197 194 203 210 204 203 209 20...</td>\n",
              "      <td>Training</td>\n",
              "    </tr>\n",
              "    <tr>\n",
              "      <th>19</th>\n",
              "      <td>4</td>\n",
              "      <td>219 192 179 148 208 254 192 98 121 103 145 185...</td>\n",
              "      <td>Training</td>\n",
              "    </tr>\n",
              "    <tr>\n",
              "      <th>20</th>\n",
              "      <td>4</td>\n",
              "      <td>1 1 1 1 1 1 1 1 1 1 1 1 2 2 2 2 7 12 23 45 38 ...</td>\n",
              "      <td>Training</td>\n",
              "    </tr>\n",
              "    <tr>\n",
              "      <th>21</th>\n",
              "      <td>2</td>\n",
              "      <td>174 51 37 37 38 41 22 25 22 24 35 51 70 83 98 ...</td>\n",
              "      <td>Training</td>\n",
              "    </tr>\n",
              "    <tr>\n",
              "      <th>22</th>\n",
              "      <td>0</td>\n",
              "      <td>123 125 124 142 209 226 234 236 231 232 235 22...</td>\n",
              "      <td>Training</td>\n",
              "    </tr>\n",
              "    <tr>\n",
              "      <th>23</th>\n",
              "      <td>0</td>\n",
              "      <td>8 9 14 21 26 32 37 46 52 62 72 70 71 73 76 83 ...</td>\n",
              "      <td>Training</td>\n",
              "    </tr>\n",
              "    <tr>\n",
              "      <th>24</th>\n",
              "      <td>3</td>\n",
              "      <td>252 250 246 229 182 140 98 72 53 44 67 95 95 8...</td>\n",
              "      <td>Training</td>\n",
              "    </tr>\n",
              "    <tr>\n",
              "      <th>25</th>\n",
              "      <td>3</td>\n",
              "      <td>224 227 219 217 215 210 187 177 189 200 206 21...</td>\n",
              "      <td>Training</td>\n",
              "    </tr>\n",
              "    <tr>\n",
              "      <th>26</th>\n",
              "      <td>5</td>\n",
              "      <td>162 200 187 180 197 198 196 192 176 152 136 11...</td>\n",
              "      <td>Training</td>\n",
              "    </tr>\n",
              "    <tr>\n",
              "      <th>27</th>\n",
              "      <td>0</td>\n",
              "      <td>236 230 225 226 228 209 199 193 196 211 199 19...</td>\n",
              "      <td>Training</td>\n",
              "    </tr>\n",
              "    <tr>\n",
              "      <th>28</th>\n",
              "      <td>3</td>\n",
              "      <td>210 210 210 210 211 207 147 103 68 60 47 70 12...</td>\n",
              "      <td>Training</td>\n",
              "    </tr>\n",
              "    <tr>\n",
              "      <th>29</th>\n",
              "      <td>5</td>\n",
              "      <td>50 44 74 141 187 187 169 113 80 128 181 172 76...</td>\n",
              "      <td>Training</td>\n",
              "    </tr>\n",
              "    <tr>\n",
              "      <th>...</th>\n",
              "      <td>...</td>\n",
              "      <td>...</td>\n",
              "      <td>...</td>\n",
              "    </tr>\n",
              "    <tr>\n",
              "      <th>35857</th>\n",
              "      <td>5</td>\n",
              "      <td>253 255 229 150 89 61 54 60 55 49 61 50 56 45 ...</td>\n",
              "      <td>PrivateTest</td>\n",
              "    </tr>\n",
              "    <tr>\n",
              "      <th>35858</th>\n",
              "      <td>4</td>\n",
              "      <td>11 11 11 13 20 27 38 41 38 34 20 13 10 39 85 1...</td>\n",
              "      <td>PrivateTest</td>\n",
              "    </tr>\n",
              "    <tr>\n",
              "      <th>35859</th>\n",
              "      <td>4</td>\n",
              "      <td>11 13 16 27 24 26 89 161 190 197 201 206 210 2...</td>\n",
              "      <td>PrivateTest</td>\n",
              "    </tr>\n",
              "    <tr>\n",
              "      <th>35860</th>\n",
              "      <td>3</td>\n",
              "      <td>27 42 62 91 112 118 122 123 119 124 129 131 13...</td>\n",
              "      <td>PrivateTest</td>\n",
              "    </tr>\n",
              "    <tr>\n",
              "      <th>35861</th>\n",
              "      <td>6</td>\n",
              "      <td>233 232 208 188 194 179 177 167 157 180 185 19...</td>\n",
              "      <td>PrivateTest</td>\n",
              "    </tr>\n",
              "    <tr>\n",
              "      <th>35862</th>\n",
              "      <td>2</td>\n",
              "      <td>73 54 63 76 82 71 67 69 73 72 92 98 117 119 14...</td>\n",
              "      <td>PrivateTest</td>\n",
              "    </tr>\n",
              "    <tr>\n",
              "      <th>35863</th>\n",
              "      <td>5</td>\n",
              "      <td>196 196 197 197 198 198 198 196 176 148 122 10...</td>\n",
              "      <td>PrivateTest</td>\n",
              "    </tr>\n",
              "    <tr>\n",
              "      <th>35864</th>\n",
              "      <td>4</td>\n",
              "      <td>68 59 65 78 118 131 137 141 142 135 135 137 13...</td>\n",
              "      <td>PrivateTest</td>\n",
              "    </tr>\n",
              "    <tr>\n",
              "      <th>35865</th>\n",
              "      <td>3</td>\n",
              "      <td>102 109 109 106 104 107 112 109 116 119 117 12...</td>\n",
              "      <td>PrivateTest</td>\n",
              "    </tr>\n",
              "    <tr>\n",
              "      <th>35866</th>\n",
              "      <td>6</td>\n",
              "      <td>87 82 59 61 72 102 143 130 90 95 143 173 146 1...</td>\n",
              "      <td>PrivateTest</td>\n",
              "    </tr>\n",
              "    <tr>\n",
              "      <th>35867</th>\n",
              "      <td>3</td>\n",
              "      <td>198 198 197 196 196 197 196 196 196 195 196 18...</td>\n",
              "      <td>PrivateTest</td>\n",
              "    </tr>\n",
              "    <tr>\n",
              "      <th>35868</th>\n",
              "      <td>2</td>\n",
              "      <td>204 209 215 218 214 214 214 217 205 175 170 16...</td>\n",
              "      <td>PrivateTest</td>\n",
              "    </tr>\n",
              "    <tr>\n",
              "      <th>35869</th>\n",
              "      <td>3</td>\n",
              "      <td>217 220 222 223 223 224 225 223 223 225 223 22...</td>\n",
              "      <td>PrivateTest</td>\n",
              "    </tr>\n",
              "    <tr>\n",
              "      <th>35870</th>\n",
              "      <td>2</td>\n",
              "      <td>6 8 4 5 30 48 61 70 76 79 98 117 130 137 143 1...</td>\n",
              "      <td>PrivateTest</td>\n",
              "    </tr>\n",
              "    <tr>\n",
              "      <th>35871</th>\n",
              "      <td>6</td>\n",
              "      <td>112 102 98 89 98 133 164 185 180 179 185 169 1...</td>\n",
              "      <td>PrivateTest</td>\n",
              "    </tr>\n",
              "    <tr>\n",
              "      <th>35872</th>\n",
              "      <td>5</td>\n",
              "      <td>131 159 90 59 10 0 1 1 1 0 1 1 0 0 2 2 5 7 9 1...</td>\n",
              "      <td>PrivateTest</td>\n",
              "    </tr>\n",
              "    <tr>\n",
              "      <th>35873</th>\n",
              "      <td>4</td>\n",
              "      <td>54 57 77 122 121 76 73 80 58 22 26 27 35 41 66...</td>\n",
              "      <td>PrivateTest</td>\n",
              "    </tr>\n",
              "    <tr>\n",
              "      <th>35874</th>\n",
              "      <td>5</td>\n",
              "      <td>43 43 51 73 94 97 102 95 99 107 126 144 154 17...</td>\n",
              "      <td>PrivateTest</td>\n",
              "    </tr>\n",
              "    <tr>\n",
              "      <th>35875</th>\n",
              "      <td>5</td>\n",
              "      <td>248 251 239 144 102 95 82 77 91 138 153 145 14...</td>\n",
              "      <td>PrivateTest</td>\n",
              "    </tr>\n",
              "    <tr>\n",
              "      <th>35876</th>\n",
              "      <td>6</td>\n",
              "      <td>29 29 27 31 49 56 29 19 22 20 34 43 55 71 85 9...</td>\n",
              "      <td>PrivateTest</td>\n",
              "    </tr>\n",
              "    <tr>\n",
              "      <th>35877</th>\n",
              "      <td>6</td>\n",
              "      <td>139 143 145 154 159 168 176 181 190 191 195 19...</td>\n",
              "      <td>PrivateTest</td>\n",
              "    </tr>\n",
              "    <tr>\n",
              "      <th>35878</th>\n",
              "      <td>3</td>\n",
              "      <td>0 39 81 80 104 97 51 64 68 46 41 67 53 68 70 5...</td>\n",
              "      <td>PrivateTest</td>\n",
              "    </tr>\n",
              "    <tr>\n",
              "      <th>35879</th>\n",
              "      <td>2</td>\n",
              "      <td>0 0 6 16 19 31 47 18 26 19 17 8 15 3 4 2 14 20...</td>\n",
              "      <td>PrivateTest</td>\n",
              "    </tr>\n",
              "    <tr>\n",
              "      <th>35880</th>\n",
              "      <td>2</td>\n",
              "      <td>164 172 175 171 172 173 178 181 188 192 197 20...</td>\n",
              "      <td>PrivateTest</td>\n",
              "    </tr>\n",
              "    <tr>\n",
              "      <th>35881</th>\n",
              "      <td>0</td>\n",
              "      <td>181 177 176 156 178 144 136 132 122 107 131 16...</td>\n",
              "      <td>PrivateTest</td>\n",
              "    </tr>\n",
              "    <tr>\n",
              "      <th>35882</th>\n",
              "      <td>6</td>\n",
              "      <td>50 36 17 22 23 29 33 39 34 37 37 37 39 43 48 5...</td>\n",
              "      <td>PrivateTest</td>\n",
              "    </tr>\n",
              "    <tr>\n",
              "      <th>35883</th>\n",
              "      <td>3</td>\n",
              "      <td>178 174 172 173 181 188 191 194 196 199 200 20...</td>\n",
              "      <td>PrivateTest</td>\n",
              "    </tr>\n",
              "    <tr>\n",
              "      <th>35884</th>\n",
              "      <td>0</td>\n",
              "      <td>17 17 16 23 28 22 19 17 25 26 20 24 31 19 27 9...</td>\n",
              "      <td>PrivateTest</td>\n",
              "    </tr>\n",
              "    <tr>\n",
              "      <th>35885</th>\n",
              "      <td>3</td>\n",
              "      <td>30 28 28 29 31 30 42 68 79 81 77 67 67 71 63 6...</td>\n",
              "      <td>PrivateTest</td>\n",
              "    </tr>\n",
              "    <tr>\n",
              "      <th>35886</th>\n",
              "      <td>2</td>\n",
              "      <td>19 13 14 12 13 16 21 33 50 57 71 84 97 108 122...</td>\n",
              "      <td>PrivateTest</td>\n",
              "    </tr>\n",
              "  </tbody>\n",
              "</table>\n",
              "<p>35887 rows × 3 columns</p>\n",
              "</div>"
            ],
            "text/plain": [
              "       emotion                                             pixels        Usage\n",
              "0            0  70 80 82 72 58 58 60 63 54 58 60 48 89 115 121...     Training\n",
              "1            0  151 150 147 155 148 133 111 140 170 174 182 15...     Training\n",
              "2            2  231 212 156 164 174 138 161 173 182 200 106 38...     Training\n",
              "3            4  24 32 36 30 32 23 19 20 30 41 21 22 32 34 21 1...     Training\n",
              "4            6  4 0 0 0 0 0 0 0 0 0 0 0 3 15 23 28 48 50 58 84...     Training\n",
              "5            2  55 55 55 55 55 54 60 68 54 85 151 163 170 179 ...     Training\n",
              "6            4  20 17 19 21 25 38 42 42 46 54 56 62 63 66 82 1...     Training\n",
              "7            3  77 78 79 79 78 75 60 55 47 48 58 73 77 79 57 5...     Training\n",
              "8            3  85 84 90 121 101 102 133 153 153 169 177 189 1...     Training\n",
              "9            2  255 254 255 254 254 179 122 107 95 124 149 150...     Training\n",
              "10           0  30 24 21 23 25 25 49 67 84 103 120 125 130 139...     Training\n",
              "11           6  39 75 78 58 58 45 49 48 103 156 81 45 41 38 49...     Training\n",
              "12           6  219 213 206 202 209 217 216 215 219 218 223 23...     Training\n",
              "13           6  148 144 130 129 119 122 129 131 139 153 140 12...     Training\n",
              "14           3  4 2 13 41 56 62 67 87 95 62 65 70 80 107 127 1...     Training\n",
              "15           5  107 107 109 109 109 109 110 101 123 140 144 14...     Training\n",
              "16           3  14 14 18 28 27 22 21 30 42 61 77 86 88 95 100 ...     Training\n",
              "17           2  255 255 255 255 255 255 255 255 255 255 255 25...     Training\n",
              "18           6  134 124 167 180 197 194 203 210 204 203 209 20...     Training\n",
              "19           4  219 192 179 148 208 254 192 98 121 103 145 185...     Training\n",
              "20           4  1 1 1 1 1 1 1 1 1 1 1 1 2 2 2 2 7 12 23 45 38 ...     Training\n",
              "21           2  174 51 37 37 38 41 22 25 22 24 35 51 70 83 98 ...     Training\n",
              "22           0  123 125 124 142 209 226 234 236 231 232 235 22...     Training\n",
              "23           0  8 9 14 21 26 32 37 46 52 62 72 70 71 73 76 83 ...     Training\n",
              "24           3  252 250 246 229 182 140 98 72 53 44 67 95 95 8...     Training\n",
              "25           3  224 227 219 217 215 210 187 177 189 200 206 21...     Training\n",
              "26           5  162 200 187 180 197 198 196 192 176 152 136 11...     Training\n",
              "27           0  236 230 225 226 228 209 199 193 196 211 199 19...     Training\n",
              "28           3  210 210 210 210 211 207 147 103 68 60 47 70 12...     Training\n",
              "29           5  50 44 74 141 187 187 169 113 80 128 181 172 76...     Training\n",
              "...        ...                                                ...          ...\n",
              "35857        5  253 255 229 150 89 61 54 60 55 49 61 50 56 45 ...  PrivateTest\n",
              "35858        4  11 11 11 13 20 27 38 41 38 34 20 13 10 39 85 1...  PrivateTest\n",
              "35859        4  11 13 16 27 24 26 89 161 190 197 201 206 210 2...  PrivateTest\n",
              "35860        3  27 42 62 91 112 118 122 123 119 124 129 131 13...  PrivateTest\n",
              "35861        6  233 232 208 188 194 179 177 167 157 180 185 19...  PrivateTest\n",
              "35862        2  73 54 63 76 82 71 67 69 73 72 92 98 117 119 14...  PrivateTest\n",
              "35863        5  196 196 197 197 198 198 198 196 176 148 122 10...  PrivateTest\n",
              "35864        4  68 59 65 78 118 131 137 141 142 135 135 137 13...  PrivateTest\n",
              "35865        3  102 109 109 106 104 107 112 109 116 119 117 12...  PrivateTest\n",
              "35866        6  87 82 59 61 72 102 143 130 90 95 143 173 146 1...  PrivateTest\n",
              "35867        3  198 198 197 196 196 197 196 196 196 195 196 18...  PrivateTest\n",
              "35868        2  204 209 215 218 214 214 214 217 205 175 170 16...  PrivateTest\n",
              "35869        3  217 220 222 223 223 224 225 223 223 225 223 22...  PrivateTest\n",
              "35870        2  6 8 4 5 30 48 61 70 76 79 98 117 130 137 143 1...  PrivateTest\n",
              "35871        6  112 102 98 89 98 133 164 185 180 179 185 169 1...  PrivateTest\n",
              "35872        5  131 159 90 59 10 0 1 1 1 0 1 1 0 0 2 2 5 7 9 1...  PrivateTest\n",
              "35873        4  54 57 77 122 121 76 73 80 58 22 26 27 35 41 66...  PrivateTest\n",
              "35874        5  43 43 51 73 94 97 102 95 99 107 126 144 154 17...  PrivateTest\n",
              "35875        5  248 251 239 144 102 95 82 77 91 138 153 145 14...  PrivateTest\n",
              "35876        6  29 29 27 31 49 56 29 19 22 20 34 43 55 71 85 9...  PrivateTest\n",
              "35877        6  139 143 145 154 159 168 176 181 190 191 195 19...  PrivateTest\n",
              "35878        3  0 39 81 80 104 97 51 64 68 46 41 67 53 68 70 5...  PrivateTest\n",
              "35879        2  0 0 6 16 19 31 47 18 26 19 17 8 15 3 4 2 14 20...  PrivateTest\n",
              "35880        2  164 172 175 171 172 173 178 181 188 192 197 20...  PrivateTest\n",
              "35881        0  181 177 176 156 178 144 136 132 122 107 131 16...  PrivateTest\n",
              "35882        6  50 36 17 22 23 29 33 39 34 37 37 37 39 43 48 5...  PrivateTest\n",
              "35883        3  178 174 172 173 181 188 191 194 196 199 200 20...  PrivateTest\n",
              "35884        0  17 17 16 23 28 22 19 17 25 26 20 24 31 19 27 9...  PrivateTest\n",
              "35885        3  30 28 28 29 31 30 42 68 79 81 77 67 67 71 63 6...  PrivateTest\n",
              "35886        2  19 13 14 12 13 16 21 33 50 57 71 84 97 108 122...  PrivateTest\n",
              "\n",
              "[35887 rows x 3 columns]"
            ]
          },
          "metadata": {
            "tags": []
          },
          "execution_count": 4
        }
      ]
    },
    {
      "metadata": {
        "id": "PryNk5H9CaeN",
        "colab_type": "code",
        "colab": {
          "autoexec": {
            "startup": false,
            "wait_interval": 0
          }
        }
      },
      "cell_type": "code",
      "source": [
        "y = dataset.iloc[:,0:1].values\n",
        "\n",
        "X = np.zeros(shape=(dataset.shape[0],48,48))\n",
        "\n",
        "for i in range(dataset.shape[0]):\n",
        "    a = dataset['pixels'][i].split(' ')\n",
        "    b = [int(x) for x in a]\n",
        "    c = np.asarray(b,dtype = 'float32')\n",
        "    d = c.reshape(48,48)\n",
        "    X[i] = d\n",
        "    \n",
        "X = X.astype('float32')\n",
        "X = X/255\n",
        "\n",
        "classes = 7"
      ],
      "execution_count": 0,
      "outputs": []
    },
    {
      "metadata": {
        "id": "FGTGTLYlCWb_",
        "colab_type": "code",
        "colab": {
          "autoexec": {
            "startup": false,
            "wait_interval": 0
          }
        }
      },
      "cell_type": "code",
      "source": [
        "index1 = 28709 # Cross-Validation SET ( Public Test )\n",
        "index2 = 32298 # Final Test SET ( Private Test )\n",
        "\n",
        "X_train = X[0:index1,:]\n",
        "X_validate = X[index1:index2,:]\n",
        "X_test = X[index2:,:]\n",
        "y_train = y[0:index1,:]\n",
        "y_validate = y[index1:index2,:]\n",
        "y_test = y[index2:,:]"
      ],
      "execution_count": 0,
      "outputs": []
    },
    {
      "metadata": {
        "id": "zpziWDAEEfDg",
        "colab_type": "code",
        "colab": {
          "autoexec": {
            "startup": false,
            "wait_interval": 0
          },
          "base_uri": "https://localhost:8080/",
          "height": 53
        },
        "outputId": "0c2a0513-9bcf-4060-8298-ec9c111e799a",
        "executionInfo": {
          "status": "ok",
          "timestamp": 1526510880437,
          "user_tz": -330,
          "elapsed": 1984,
          "user": {
            "displayName": "Devesh Saini",
            "photoUrl": "//lh5.googleusercontent.com/-ULsfV-SFjXw/AAAAAAAAAAI/AAAAAAAAFG4/vbqK1p4TOZ4/s50-c-k-no/photo.jpg",
            "userId": "104632412090252973797"
          }
        }
      },
      "cell_type": "code",
      "source": [
        "print(X_train.shape)\n",
        "print(y_train.shape)"
      ],
      "execution_count": 7,
      "outputs": [
        {
          "output_type": "stream",
          "text": [
            "(28709, 48, 48)\n",
            "(28709, 1)\n"
          ],
          "name": "stdout"
        }
      ]
    },
    {
      "metadata": {
        "id": "oReQadJIEpv2",
        "colab_type": "code",
        "colab": {
          "autoexec": {
            "startup": false,
            "wait_interval": 0
          },
          "base_uri": "https://localhost:8080/",
          "height": 1547
        },
        "outputId": "6951ed00-4ccc-496c-f4b5-e26733f2d4b2",
        "executionInfo": {
          "status": "ok",
          "timestamp": 1526510881872,
          "user_tz": -330,
          "elapsed": 1375,
          "user": {
            "displayName": "Devesh Saini",
            "photoUrl": "//lh5.googleusercontent.com/-ULsfV-SFjXw/AAAAAAAAAAI/AAAAAAAAFG4/vbqK1p4TOZ4/s50-c-k-no/photo.jpg",
            "userId": "104632412090252973797"
          }
        }
      },
      "cell_type": "code",
      "source": [
        "X"
      ],
      "execution_count": 8,
      "outputs": [
        {
          "output_type": "execute_result",
          "data": {
            "text/plain": [
              "array([[[0.27450982, 0.3137255 , 0.32156864, ..., 0.20392157,\n",
              "         0.16862746, 0.16078432],\n",
              "        [0.25490198, 0.23921569, 0.22745098, ..., 0.21960784,\n",
              "         0.20392157, 0.17254902],\n",
              "        [0.19607843, 0.16862746, 0.21176471, ..., 0.19215687,\n",
              "         0.21960784, 0.18431373],\n",
              "        ...,\n",
              "        [0.35686275, 0.25490198, 0.16470589, ..., 0.28235295,\n",
              "         0.21960784, 0.16862746],\n",
              "        [0.3019608 , 0.32156864, 0.30980393, ..., 0.4117647 ,\n",
              "         0.27450982, 0.18039216],\n",
              "        [0.3019608 , 0.28235295, 0.32941177, ..., 0.41568628,\n",
              "         0.42745098, 0.32156864]],\n",
              "\n",
              "       [[0.5921569 , 0.5882353 , 0.5764706 , ..., 0.5058824 ,\n",
              "         0.54901963, 0.47058824],\n",
              "        [0.5921569 , 0.58431375, 0.58431375, ..., 0.47843137,\n",
              "         0.5529412 , 0.5372549 ],\n",
              "        [0.5921569 , 0.5921569 , 0.6117647 , ..., 0.42745098,\n",
              "         0.48235294, 0.57254905],\n",
              "        ...,\n",
              "        [0.7372549 , 0.7372549 , 0.4745098 , ..., 0.7254902 ,\n",
              "         0.7254902 , 0.7294118 ],\n",
              "        [0.7372549 , 0.73333335, 0.76862746, ..., 0.7294118 ,\n",
              "         0.7137255 , 0.73333335],\n",
              "        [0.7294118 , 0.72156864, 0.7254902 , ..., 0.75686276,\n",
              "         0.7176471 , 0.72156864]],\n",
              "\n",
              "       [[0.90588236, 0.83137256, 0.6117647 , ..., 0.17254902,\n",
              "         0.10588235, 0.0627451 ],\n",
              "        [0.8980392 , 0.6862745 , 0.5803922 , ..., 0.10588235,\n",
              "         0.13725491, 0.10588235],\n",
              "        [0.8392157 , 0.6117647 , 0.6156863 , ..., 0.10980392,\n",
              "         0.08627451, 0.10980392],\n",
              "        ...,\n",
              "        [0.94509804, 0.9607843 , 0.98039216, ..., 0.22352941,\n",
              "         0.39607844, 0.57254905],\n",
              "        [0.9647059 , 0.98039216, 0.9882353 , ..., 0.30588236,\n",
              "         0.4117647 , 0.63529414],\n",
              "        [0.98039216, 0.9843137 , 0.98039216, ..., 0.34509805,\n",
              "         0.43137255, 0.59607846]],\n",
              "\n",
              "       ...,\n",
              "\n",
              "       [[0.06666667, 0.06666667, 0.0627451 , ..., 0.3254902 ,\n",
              "         0.44705883, 0.9607843 ],\n",
              "        [0.07058824, 0.06666667, 0.0627451 , ..., 0.40784314,\n",
              "         0.53333336, 0.99215686],\n",
              "        [0.07450981, 0.0627451 , 0.06666667, ..., 0.5019608 ,\n",
              "         0.59607846, 1.        ],\n",
              "        ...,\n",
              "        [0.01568628, 0.08235294, 0.18039216, ..., 0.7294118 ,\n",
              "         0.7058824 , 0.73333335],\n",
              "        [0.01960784, 0.06666667, 0.16078432, ..., 0.69411767,\n",
              "         0.6745098 , 0.6901961 ],\n",
              "        [0.07843138, 0.05882353, 0.08627451, ..., 0.6039216 ,\n",
              "         0.52156866, 0.44313726]],\n",
              "\n",
              "       [[0.11764706, 0.10980392, 0.10980392, ..., 0.23529412,\n",
              "         0.19607843, 0.17254902],\n",
              "        [0.11764706, 0.10588235, 0.10980392, ..., 0.2509804 ,\n",
              "         0.20392157, 0.15686275],\n",
              "        [0.12156863, 0.10980392, 0.11764706, ..., 0.23921569,\n",
              "         0.21176471, 0.14509805],\n",
              "        ...,\n",
              "        [0.40784314, 0.42745098, 0.43137255, ..., 0.13725491,\n",
              "         0.11764706, 0.11764706],\n",
              "        [0.4       , 0.4117647 , 0.42352942, ..., 0.13725491,\n",
              "         0.12156863, 0.11372549],\n",
              "        [0.3647059 , 0.3764706 , 0.39215687, ..., 0.13725491,\n",
              "         0.11764706, 0.10980392]],\n",
              "\n",
              "       [[0.07450981, 0.05098039, 0.05490196, ..., 0.42352942,\n",
              "         0.37254903, 0.3372549 ],\n",
              "        [0.0627451 , 0.06666667, 0.05882353, ..., 0.4117647 ,\n",
              "         0.36862746, 0.3529412 ],\n",
              "        [0.03921569, 0.03529412, 0.03921569, ..., 0.39607844,\n",
              "         0.3647059 , 0.37254903],\n",
              "        ...,\n",
              "        [0.07058824, 0.05490196, 0.0627451 , ..., 0.21568628,\n",
              "         0.2509804 , 0.37254903],\n",
              "        [0.05882353, 0.05882353, 0.05098039, ..., 0.48235294,\n",
              "         0.67058825, 0.7529412 ],\n",
              "        [0.0627451 , 0.05490196, 0.05098039, ..., 0.7411765 ,\n",
              "         0.78039217, 0.7882353 ]]], dtype=float32)"
            ]
          },
          "metadata": {
            "tags": []
          },
          "execution_count": 8
        }
      ]
    },
    {
      "metadata": {
        "id": "aJvg3-OsEwmw",
        "colab_type": "text"
      },
      "cell_type": "markdown",
      "source": [
        "# Neural Network"
      ]
    },
    {
      "metadata": {
        "id": "zeMhSMxhE18T",
        "colab_type": "code",
        "colab": {
          "autoexec": {
            "startup": false,
            "wait_interval": 0
          },
          "base_uri": "https://localhost:8080/",
          "height": 35
        },
        "outputId": "db8df9de-b223-4932-bf76-137743f01d50",
        "executionInfo": {
          "status": "ok",
          "timestamp": 1526510909881,
          "user_tz": -330,
          "elapsed": 8626,
          "user": {
            "displayName": "Devesh Saini",
            "photoUrl": "//lh5.googleusercontent.com/-ULsfV-SFjXw/AAAAAAAAAAI/AAAAAAAAFG4/vbqK1p4TOZ4/s50-c-k-no/photo.jpg",
            "userId": "104632412090252973797"
          }
        }
      },
      "cell_type": "code",
      "source": [
        "import keras\n",
        "from keras.models import Sequential\n",
        "from keras.layers import Dense,Dropout,Flatten,Activation,Convolution2D,MaxPooling2D,BatchNormalization\n",
        "from keras.utils import np_utils"
      ],
      "execution_count": 9,
      "outputs": [
        {
          "output_type": "stream",
          "text": [
            "Using TensorFlow backend.\n"
          ],
          "name": "stderr"
        }
      ]
    },
    {
      "metadata": {
        "id": "GzxI6CLTE4PP",
        "colab_type": "code",
        "colab": {
          "autoexec": {
            "startup": false,
            "wait_interval": 0
          }
        }
      },
      "cell_type": "code",
      "source": [
        "# Data Reshaping\n",
        "y_train = np_utils.to_categorical(y_train,classes)\n",
        "y_validate = np_utils.to_categorical(y_validate,classes)\n",
        "y_test = np_utils.to_categorical(y_test,classes)\n",
        "X_train = X_train.reshape(X_train.shape[0],48,48,1)\n",
        "X_validate = X_validate.reshape(X_validate.shape[0],48,48,1)\n",
        "X_test = X_test.reshape(X_test.shape[0],48,48,1)"
      ],
      "execution_count": 0,
      "outputs": []
    },
    {
      "metadata": {
        "id": "lkEn-zLiE8tj",
        "colab_type": "code",
        "colab": {
          "autoexec": {
            "startup": false,
            "wait_interval": 0
          },
          "base_uri": "https://localhost:8080/",
          "height": 125
        },
        "outputId": "6b4f6d07-76cd-4eea-eb21-d9b5be373bcb",
        "executionInfo": {
          "status": "ok",
          "timestamp": 1526510912405,
          "user_tz": -330,
          "elapsed": 1278,
          "user": {
            "displayName": "Devesh Saini",
            "photoUrl": "//lh5.googleusercontent.com/-ULsfV-SFjXw/AAAAAAAAAAI/AAAAAAAAFG4/vbqK1p4TOZ4/s50-c-k-no/photo.jpg",
            "userId": "104632412090252973797"
          }
        }
      },
      "cell_type": "code",
      "source": [
        "print(X_train.shape)\n",
        "print(y_train.shape)\n",
        "print(X_validate.shape)\n",
        "print(y_validate.shape)\n",
        "print(X_test.shape)\n",
        "print(y_test.shape)\n"
      ],
      "execution_count": 11,
      "outputs": [
        {
          "output_type": "stream",
          "text": [
            "(28709, 48, 48, 1)\n",
            "(28709, 7)\n",
            "(3589, 48, 48, 1)\n",
            "(3589, 7)\n",
            "(3589, 48, 48, 1)\n",
            "(3589, 7)\n"
          ],
          "name": "stdout"
        }
      ]
    },
    {
      "metadata": {
        "id": "-UK21Z_GE-3c",
        "colab_type": "code",
        "colab": {
          "autoexec": {
            "startup": false,
            "wait_interval": 0
          }
        }
      },
      "cell_type": "code",
      "source": [
        "model = Sequential()"
      ],
      "execution_count": 0,
      "outputs": []
    },
    {
      "metadata": {
        "id": "7i0SO9OAaoBv",
        "colab_type": "code",
        "colab": {
          "autoexec": {
            "startup": false,
            "wait_interval": 0
          },
          "base_uri": "https://localhost:8080/",
          "height": 143
        },
        "outputId": "11a218f7-6d3c-4f9a-f12c-c5642e96a0fc",
        "executionInfo": {
          "status": "ok",
          "timestamp": 1526510915559,
          "user_tz": -330,
          "elapsed": 1281,
          "user": {
            "displayName": "Devesh Saini",
            "photoUrl": "//lh5.googleusercontent.com/-ULsfV-SFjXw/AAAAAAAAAAI/AAAAAAAAFG4/vbqK1p4TOZ4/s50-c-k-no/photo.jpg",
            "userId": "104632412090252973797"
          }
        }
      },
      "cell_type": "code",
      "source": [
        "model.summary()"
      ],
      "execution_count": 13,
      "outputs": [
        {
          "output_type": "stream",
          "text": [
            "_________________________________________________________________\n",
            "Layer (type)                 Output Shape              Param #   \n",
            "=================================================================\n",
            "Total params: 0\n",
            "Trainable params: 0\n",
            "Non-trainable params: 0\n",
            "_________________________________________________________________\n"
          ],
          "name": "stdout"
        }
      ]
    },
    {
      "metadata": {
        "id": "DcNTZcxZFJAL",
        "colab_type": "code",
        "colab": {
          "autoexec": {
            "startup": false,
            "wait_interval": 0
          }
        }
      },
      "cell_type": "code",
      "source": [
        "# =============================================================================\n",
        "# Section 1\n",
        "# =============================================================================\n",
        "model.add(Convolution2D(128,(4,4),input_shape=(48,48,1),strides = 2))\n",
        "\n",
        "\n",
        "# =============================================================================\n",
        "# Section 2\n",
        "# =============================================================================\n",
        "model.add(Convolution2D(128,(4,4),strides = 2))\n",
        "\n",
        "# =============================================================================\n",
        "# Section 3\n",
        "# =============================================================================\n",
        "model.add(Convolution2D(128,(4,4),strides = 2))\n",
        "model.add(MaxPooling2D(pool_size=(2,2)))\n",
        "\n",
        "model.add(Flatten())\n"
      ],
      "execution_count": 0,
      "outputs": []
    },
    {
      "metadata": {
        "id": "N2VwrFzKFMK3",
        "colab_type": "code",
        "colab": {
          "autoexec": {
            "startup": false,
            "wait_interval": 0
          },
          "base_uri": "https://localhost:8080/",
          "height": 323
        },
        "outputId": "f59d1cc0-2195-4de1-b54b-674f12d7bcb0",
        "executionInfo": {
          "status": "ok",
          "timestamp": 1526510919246,
          "user_tz": -330,
          "elapsed": 1388,
          "user": {
            "displayName": "Devesh Saini",
            "photoUrl": "//lh5.googleusercontent.com/-ULsfV-SFjXw/AAAAAAAAAAI/AAAAAAAAFG4/vbqK1p4TOZ4/s50-c-k-no/photo.jpg",
            "userId": "104632412090252973797"
          }
        }
      },
      "cell_type": "code",
      "source": [
        "model.summary()"
      ],
      "execution_count": 15,
      "outputs": [
        {
          "output_type": "stream",
          "text": [
            "_________________________________________________________________\n",
            "Layer (type)                 Output Shape              Param #   \n",
            "=================================================================\n",
            "conv2d_1 (Conv2D)            (None, 23, 23, 128)       2176      \n",
            "_________________________________________________________________\n",
            "conv2d_2 (Conv2D)            (None, 10, 10, 128)       262272    \n",
            "_________________________________________________________________\n",
            "conv2d_3 (Conv2D)            (None, 4, 4, 128)         262272    \n",
            "_________________________________________________________________\n",
            "max_pooling2d_1 (MaxPooling2 (None, 2, 2, 128)         0         \n",
            "_________________________________________________________________\n",
            "flatten_1 (Flatten)          (None, 512)               0         \n",
            "=================================================================\n",
            "Total params: 526,720\n",
            "Trainable params: 526,720\n",
            "Non-trainable params: 0\n",
            "_________________________________________________________________\n"
          ],
          "name": "stdout"
        }
      ]
    },
    {
      "metadata": {
        "id": "p7S-BfrFYTtJ",
        "colab_type": "code",
        "colab": {
          "autoexec": {
            "startup": false,
            "wait_interval": 0
          }
        }
      },
      "cell_type": "code",
      "source": [
        "\n",
        "# =============================================================================\n",
        "# Section 8\n",
        "# =============================================================================\n",
        "model.add(Dense(512))\n",
        "model.add(Activation('relu'))\n",
        "\n",
        "# =============================================================================\n",
        "# Section 9\n",
        "# =============================================================================\n",
        "model.add(Dense(128))\n",
        "model.add(Activation('relu'))\n",
        "\n",
        "# =============================================================================\n",
        "# Section 10\n",
        "# =============================================================================\n",
        "model.add(Dense(classes, activation='softmax'))"
      ],
      "execution_count": 0,
      "outputs": []
    },
    {
      "metadata": {
        "id": "GOdp6EelYbR9",
        "colab_type": "code",
        "colab": {
          "autoexec": {
            "startup": false,
            "wait_interval": 0
          },
          "base_uri": "https://localhost:8080/",
          "height": 503
        },
        "outputId": "b7494af5-c399-4bfd-e6be-8e3c8f61468e",
        "executionInfo": {
          "status": "ok",
          "timestamp": 1526511965613,
          "user_tz": -330,
          "elapsed": 1088,
          "user": {
            "displayName": "Devesh Saini",
            "photoUrl": "//lh5.googleusercontent.com/-ULsfV-SFjXw/AAAAAAAAAAI/AAAAAAAAFG4/vbqK1p4TOZ4/s50-c-k-no/photo.jpg",
            "userId": "104632412090252973797"
          }
        }
      },
      "cell_type": "code",
      "source": [
        "model.summary()"
      ],
      "execution_count": 43,
      "outputs": [
        {
          "output_type": "stream",
          "text": [
            "_________________________________________________________________\n",
            "Layer (type)                 Output Shape              Param #   \n",
            "=================================================================\n",
            "conv2d_4 (Conv2D)            (None, 23, 23, 128)       2176      \n",
            "_________________________________________________________________\n",
            "conv2d_5 (Conv2D)            (None, 10, 10, 128)       262272    \n",
            "_________________________________________________________________\n",
            "conv2d_6 (Conv2D)            (None, 4, 4, 128)         262272    \n",
            "_________________________________________________________________\n",
            "max_pooling2d_2 (MaxPooling2 (None, 2, 2, 128)         0         \n",
            "_________________________________________________________________\n",
            "flatten_2 (Flatten)          (None, 512)               0         \n",
            "_________________________________________________________________\n",
            "dense_4 (Dense)              (None, 512)               262656    \n",
            "_________________________________________________________________\n",
            "activation_3 (Activation)    (None, 512)               0         \n",
            "_________________________________________________________________\n",
            "dense_5 (Dense)              (None, 128)               65664     \n",
            "_________________________________________________________________\n",
            "activation_4 (Activation)    (None, 128)               0         \n",
            "_________________________________________________________________\n",
            "dense_6 (Dense)              (None, 7)                 903       \n",
            "=================================================================\n",
            "Total params: 855,943\n",
            "Trainable params: 855,943\n",
            "Non-trainable params: 0\n",
            "_________________________________________________________________\n"
          ],
          "name": "stdout"
        }
      ]
    },
    {
      "metadata": {
        "id": "eEYVL33z7CZN",
        "colab_type": "code",
        "colab": {
          "autoexec": {
            "startup": false,
            "wait_interval": 0
          }
        }
      },
      "cell_type": "code",
      "source": [
        "class LossHistory(keras.callbacks.Callback):\n",
        "    def on_train_begin(self, logs={}):\n",
        "        self.train_losses = []\n",
        "        self.val_losses = []\n",
        "\n",
        "    def on_epoch_end(self, batch, logs={}):\n",
        "        self.train_losses.append(logs.get('loss'))\n",
        "        self.val_losses.append(logs.get('val_loss'))"
      ],
      "execution_count": 0,
      "outputs": []
    },
    {
      "metadata": {
        "id": "fuQBG6PhGBbn",
        "colab_type": "code",
        "colab": {
          "autoexec": {
            "startup": false,
            "wait_interval": 0
          }
        }
      },
      "cell_type": "code",
      "source": [
        "class AccHistory(keras.callbacks.Callback):\n",
        "    def on_train_begin(self, logs={}):\n",
        "        self.train_acc = []\n",
        "        self.val_acc = []\n",
        "\n",
        "    def on_epoch_end(self, batch, logs={}):\n",
        "        self.train_acc.append(logs.get('acc'))\n",
        "        self.val_acc.append(logs.get('val_acc'))"
      ],
      "execution_count": 0,
      "outputs": []
    },
    {
      "metadata": {
        "id": "9oVuu8b-FQPI",
        "colab_type": "code",
        "colab": {
          "autoexec": {
            "startup": false,
            "wait_interval": 0
          }
        }
      },
      "cell_type": "code",
      "source": [
        "model.compile(loss='categorical_crossentropy',\n",
        "              optimizer='adam',\n",
        "              metrics=['accuracy'])"
      ],
      "execution_count": 0,
      "outputs": []
    },
    {
      "metadata": {
        "id": "GXmEkrmMEp7q",
        "colab_type": "code",
        "colab": {
          "autoexec": {
            "startup": false,
            "wait_interval": 0
          }
        }
      },
      "cell_type": "code",
      "source": [
        "history1 = LossHistory()\n",
        "history2 = AccHistory()"
      ],
      "execution_count": 0,
      "outputs": []
    },
    {
      "metadata": {
        "id": "A8foAjP8EroU",
        "colab_type": "code",
        "colab": {
          "autoexec": {
            "startup": false,
            "wait_interval": 0
          }
        }
      },
      "cell_type": "code",
      "source": [
        "from keras.callbacks import ModelCheckpoint\n",
        "filepath1=\"weights.best.acc.hdf5\"\n",
        "filepath2=\"weights.best.loss.hdf5\"\n",
        "checkpoint1 = ModelCheckpoint(filepath1, monitor='val_acc', verbose=1, save_best_only=True, mode='max')\n",
        "checkpoint2 = ModelCheckpoint(filepath2, monitor='val_loss', verbose=1, save_best_only=True, mode='min')\n",
        "\n",
        "callbacks_list = [checkpoint1,checkpoint2,history1,history2]\n"
      ],
      "execution_count": 0,
      "outputs": []
    },
    {
      "metadata": {
        "id": "kZT_GcfxFVIo",
        "colab_type": "code",
        "colab": {
          "autoexec": {
            "startup": false,
            "wait_interval": 0
          },
          "base_uri": "https://localhost:8080/",
          "height": 1153
        },
        "outputId": "3241b6cf-cece-460e-ee48-8c9013b1a5ad",
        "executionInfo": {
          "status": "ok",
          "timestamp": 1526512064511,
          "user_tz": -330,
          "elapsed": 87075,
          "user": {
            "displayName": "Devesh Saini",
            "photoUrl": "//lh5.googleusercontent.com/-ULsfV-SFjXw/AAAAAAAAAAI/AAAAAAAAFG4/vbqK1p4TOZ4/s50-c-k-no/photo.jpg",
            "userId": "104632412090252973797"
          }
        }
      },
      "cell_type": "code",
      "source": [
        "model.fit(X_train, y_train, \n",
        "          batch_size=128, epochs=10, verbose=1, validation_data = (X_validate,y_validate),callbacks=callbacks_list)"
      ],
      "execution_count": 49,
      "outputs": [
        {
          "output_type": "stream",
          "text": [
            "Train on 28709 samples, validate on 3589 samples\n",
            "Epoch 1/10\n",
            "28709/28709 [==============================] - 9s 313us/step - loss: 1.7186 - acc: 0.3059 - val_loss: 1.5998 - val_acc: 0.3781\n",
            "\n",
            "Epoch 00001: val_acc improved from -inf to 0.37810, saving model to weights.best.acc.hdf5\n",
            "\n",
            "Epoch 00001: val_loss improved from inf to 1.59983, saving model to weights.best.loss.hdf5\n",
            "Epoch 2/10\n",
            "28709/28709 [==============================] - 8s 293us/step - loss: 1.5177 - acc: 0.4094 - val_loss: 1.4875 - val_acc: 0.4244\n",
            "\n",
            "Epoch 00002: val_acc improved from 0.37810 to 0.42435, saving model to weights.best.acc.hdf5\n",
            "\n",
            "Epoch 00002: val_loss improved from 1.59983 to 1.48752, saving model to weights.best.loss.hdf5\n",
            "Epoch 3/10\n",
            " 9600/28709 [=========>....................] - ETA: 5s - loss: 1.4019 - acc: 0.4689"
          ],
          "name": "stdout"
        },
        {
          "output_type": "stream",
          "text": [
            "28709/28709 [==============================] - 8s 292us/step - loss: 1.4059 - acc: 0.4611 - val_loss: 1.4602 - val_acc: 0.4358\n",
            "\n",
            "Epoch 00003: val_acc improved from 0.42435 to 0.43578, saving model to weights.best.acc.hdf5\n",
            "\n",
            "Epoch 00003: val_loss improved from 1.48752 to 1.46015, saving model to weights.best.loss.hdf5\n",
            "Epoch 4/10\n",
            "28709/28709 [==============================] - 8s 294us/step - loss: 1.2902 - acc: 0.5059 - val_loss: 1.4554 - val_acc: 0.4561\n",
            "\n",
            "Epoch 00004: val_acc improved from 0.43578 to 0.45612, saving model to weights.best.acc.hdf5\n",
            "\n",
            "Epoch 00004: val_loss improved from 1.46015 to 1.45542, saving model to weights.best.loss.hdf5\n",
            "Epoch 5/10\n",
            "16000/28709 [===============>..............] - ETA: 3s - loss: 1.1388 - acc: 0.5699"
          ],
          "name": "stdout"
        },
        {
          "output_type": "stream",
          "text": [
            "28709/28709 [==============================] - 9s 296us/step - loss: 1.1570 - acc: 0.5629 - val_loss: 1.4603 - val_acc: 0.4478\n",
            "\n",
            "Epoch 00005: val_acc did not improve from 0.45612\n",
            "\n",
            "Epoch 00005: val_loss did not improve from 1.45542\n",
            "Epoch 6/10\n",
            "28709/28709 [==============================] - 8s 295us/step - loss: 0.9893 - acc: 0.6318 - val_loss: 1.5872 - val_acc: 0.4500\n",
            "\n",
            "Epoch 00006: val_acc did not improve from 0.45612\n",
            "\n",
            "Epoch 00006: val_loss did not improve from 1.45542\n",
            "Epoch 7/10\n",
            "26496/28709 [==========================>...] - ETA: 0s - loss: 0.8156 - acc: 0.6994"
          ],
          "name": "stdout"
        },
        {
          "output_type": "stream",
          "text": [
            "28709/28709 [==============================] - 8s 294us/step - loss: 0.8218 - acc: 0.6980 - val_loss: 1.7014 - val_acc: 0.4344\n",
            "\n",
            "Epoch 00007: val_acc did not improve from 0.45612\n",
            "\n",
            "Epoch 00007: val_loss did not improve from 1.45542\n",
            "Epoch 8/10\n",
            "28709/28709 [==============================] - 8s 295us/step - loss: 0.6380 - acc: 0.7691 - val_loss: 1.8916 - val_acc: 0.4466\n",
            "\n",
            "Epoch 00008: val_acc did not improve from 0.45612\n",
            "\n",
            "Epoch 00008: val_loss did not improve from 1.45542\n",
            "Epoch 9/10\n",
            "28032/28709 [============================>.] - ETA: 0s - loss: 0.4902 - acc: 0.8236"
          ],
          "name": "stdout"
        },
        {
          "output_type": "stream",
          "text": [
            "28709/28709 [==============================] - 8s 295us/step - loss: 0.4907 - acc: 0.8232 - val_loss: 2.1141 - val_acc: 0.4634\n",
            "\n",
            "Epoch 00009: val_acc improved from 0.45612 to 0.46336, saving model to weights.best.acc.hdf5\n",
            "\n",
            "Epoch 00009: val_loss did not improve from 1.45542\n",
            "Epoch 10/10\n",
            "28709/28709 [==============================] - 8s 295us/step - loss: 0.3806 - acc: 0.8669 - val_loss: 2.3906 - val_acc: 0.4500\n",
            "\n",
            "Epoch 00010: val_acc did not improve from 0.46336\n",
            "\n",
            "Epoch 00010: val_loss did not improve from 1.45542\n"
          ],
          "name": "stdout"
        },
        {
          "output_type": "execute_result",
          "data": {
            "text/plain": [
              "<keras.callbacks.History at 0x7f96bb9475f8>"
            ]
          },
          "metadata": {
            "tags": []
          },
          "execution_count": 49
        }
      ]
    },
    {
      "metadata": {
        "id": "HE0E0siSFa4L",
        "colab_type": "code",
        "colab": {
          "autoexec": {
            "startup": false,
            "wait_interval": 0
          },
          "base_uri": "https://localhost:8080/",
          "height": 35
        },
        "outputId": "ec7780a8-2c36-4225-a837-1a1a146318a8",
        "executionInfo": {
          "status": "ok",
          "timestamp": 1526512079679,
          "user_tz": -330,
          "elapsed": 1497,
          "user": {
            "displayName": "Devesh Saini",
            "photoUrl": "//lh5.googleusercontent.com/-ULsfV-SFjXw/AAAAAAAAAAI/AAAAAAAAFG4/vbqK1p4TOZ4/s50-c-k-no/photo.jpg",
            "userId": "104632412090252973797"
          }
        }
      },
      "cell_type": "code",
      "source": [
        "test_score = model.evaluate(X_test, y_test, verbose=1)\n",
        "\n"
      ],
      "execution_count": 50,
      "outputs": [
        {
          "output_type": "stream",
          "text": [
            "3589/3589 [==============================] - 1s 197us/step\n"
          ],
          "name": "stdout"
        }
      ]
    },
    {
      "metadata": {
        "id": "jfS-8mYR_no6",
        "colab_type": "code",
        "colab": {
          "autoexec": {
            "startup": false,
            "wait_interval": 0
          },
          "base_uri": "https://localhost:8080/",
          "height": 376
        },
        "outputId": "4ddeb3d6-082c-460e-cf4e-39eed1ceb052",
        "executionInfo": {
          "status": "ok",
          "timestamp": 1526512171569,
          "user_tz": -330,
          "elapsed": 1166,
          "user": {
            "displayName": "Devesh Saini",
            "photoUrl": "//lh5.googleusercontent.com/-ULsfV-SFjXw/AAAAAAAAAAI/AAAAAAAAFG4/vbqK1p4TOZ4/s50-c-k-no/photo.jpg",
            "userId": "104632412090252973797"
          }
        }
      },
      "cell_type": "code",
      "source": [
        "plt.plot(history1.train_losses,color = 'blue')\n",
        "plt.plot(history1.val_losses,color = 'red')\n",
        "#plt.plot(history.history['val_acc'])\n",
        "plt.title('model loss')\n",
        "plt.ylabel('loss')\n",
        "plt.xlabel('time')\n",
        "plt.legend(['train', 'validation'], loc='lower right')\n",
        "plt.show()"
      ],
      "execution_count": 56,
      "outputs": [
        {
          "output_type": "display_data",
          "data": {
            "image/png": "[encoded data removed]",
            "text/plain": [
              "<matplotlib.figure.Figure at 0x7f96b9bbb080>"
            ]
          },
          "metadata": {
            "tags": []
          }
        }
      ]
    },
    {
      "metadata": {
        "id": "85Yu6TEUKy1g",
        "colab_type": "code",
        "colab": {
          "autoexec": {
            "startup": false,
            "wait_interval": 0
          },
          "base_uri": "https://localhost:8080/",
          "height": 73
        },
        "outputId": "7b6bc53b-e592-4d13-9593-0047c3aef7a8",
        "executionInfo": {
          "status": "ok",
          "timestamp": 1526512127064,
          "user_tz": -330,
          "elapsed": 1110,
          "user": {
            "displayName": "Devesh Saini",
            "photoUrl": "//lh5.googleusercontent.com/-ULsfV-SFjXw/AAAAAAAAAAI/AAAAAAAAFG4/vbqK1p4TOZ4/s50-c-k-no/photo.jpg",
            "userId": "104632412090252973797"
          }
        }
      },
      "cell_type": "code",
      "source": [
        "print(history1.train_losses)\n",
        "print(history1.val_losses)"
      ],
      "execution_count": 52,
      "outputs": [
        {
          "output_type": "stream",
          "text": [
            "[1.7186437924664206, 1.5176607695960913, 1.4058700981066723, 1.2902210037546091, 1.1569864915669528, 0.9893047897588738, 0.8218431561679741, 0.6380198730637301, 0.49074472960079096, 0.38062344709738716]\n",
            "[1.599832432786214, 1.4875231807894214, 1.4601506527568278, 1.4554226489477617, 1.4603142976827295, 1.5872179713877639, 1.7014166704291054, 1.8916331905281023, 2.114092846905232, 2.3906222720370716]\n"
          ],
          "name": "stdout"
        }
      ]
    },
    {
      "metadata": {
        "id": "LpucHs0TC4Vd",
        "colab_type": "code",
        "colab": {
          "autoexec": {
            "startup": false,
            "wait_interval": 0
          },
          "base_uri": "https://localhost:8080/",
          "height": 73
        },
        "outputId": "e7fe5403-40b6-495d-dfa5-e20b2f7aba38",
        "executionInfo": {
          "status": "ok",
          "timestamp": 1526512136991,
          "user_tz": -330,
          "elapsed": 1098,
          "user": {
            "displayName": "Devesh Saini",
            "photoUrl": "//lh5.googleusercontent.com/-ULsfV-SFjXw/AAAAAAAAAAI/AAAAAAAAFG4/vbqK1p4TOZ4/s50-c-k-no/photo.jpg",
            "userId": "104632412090252973797"
          }
        }
      },
      "cell_type": "code",
      "source": [
        "print(history2.train_acc)\n",
        "print(history2.val_acc)"
      ],
      "execution_count": 53,
      "outputs": [
        {
          "output_type": "stream",
          "text": [
            "[0.3059319377188407, 0.40941864919993, 0.4611097565181926, 0.5058692395801292, 0.5628548538412037, 0.6317879410264069, 0.6979692779309349, 0.7690619666078354, 0.823226166002354, 0.8669406805937349]\n",
            "[0.3780997492420736, 0.42435218724293705, 0.4357759821718866, 0.45611590973246097, 0.44775703541911654, 0.44998606855107337, 0.434382836448844, 0.44664251881161915, 0.4633602674881307, 0.44998606854692147]\n"
          ],
          "name": "stdout"
        }
      ]
    },
    {
      "metadata": {
        "id": "ohUpZuWXLzjl",
        "colab_type": "code",
        "colab": {
          "autoexec": {
            "startup": false,
            "wait_interval": 0
          },
          "base_uri": "https://localhost:8080/",
          "height": 376
        },
        "outputId": "8a6b333e-cf20-4504-a962-00416f7469ab",
        "executionInfo": {
          "status": "ok",
          "timestamp": 1526512161290,
          "user_tz": -330,
          "elapsed": 1429,
          "user": {
            "displayName": "Devesh Saini",
            "photoUrl": "//lh5.googleusercontent.com/-ULsfV-SFjXw/AAAAAAAAAAI/AAAAAAAAFG4/vbqK1p4TOZ4/s50-c-k-no/photo.jpg",
            "userId": "104632412090252973797"
          }
        }
      },
      "cell_type": "code",
      "source": [
        "plt.plot(history2.train_acc,color = 'blue')\n",
        "plt.plot(history2.val_acc,color = 'red')\n",
        "#plt.plot(history.history['val_acc'])\n",
        "plt.title('model accuracy')\n",
        "plt.ylabel('accuracy')\n",
        "plt.xlabel('time')\n",
        "plt.legend(['train', 'validation'], loc='lower right')\n",
        "plt.show()"
      ],
      "execution_count": 55,
      "outputs": [
        {
          "output_type": "display_data",
          "data": {
            "image/png": "[encoded data removed]",
            "text/plain": [
              "<matplotlib.figure.Figure at 0x7f96ba6c76d8>"
            ]
          },
          "metadata": {
            "tags": []
          }
        }
      ]
    },
    {
      "metadata": {
        "id": "Pl7k2qKtMsEs",
        "colab_type": "code",
        "colab": {
          "autoexec": {
            "startup": false,
            "wait_interval": 0
          },
          "base_uri": "https://localhost:8080/",
          "height": 51
        },
        "outputId": "6c7f3aba-c546-4cdb-ebf6-ffca62a9e33d",
        "executionInfo": {
          "status": "ok",
          "timestamp": 1524251015826,
          "user_tz": -330,
          "elapsed": 2453,
          "user": {
            "displayName": "Devesh Saini",
            "photoUrl": "//lh5.googleusercontent.com/-ULsfV-SFjXw/AAAAAAAAAAI/AAAAAAAAFG4/vbqK1p4TOZ4/s50-c-k-no/photo.jpg",
            "userId": "104632412090252973797"
          }
        }
      },
      "cell_type": "code",
      "source": [
        "print(X_validate.shape)\n",
        "print(y_validate.shape)\n"
      ],
      "execution_count": 58,
      "outputs": [
        {
          "output_type": "stream",
          "text": [
            "(3589, 48, 48, 1)\n",
            "(3589, 7)\n"
          ],
          "name": "stdout"
        }
      ]
    },
    {
      "metadata": {
        "id": "Ehr2QdMDUQXK",
        "colab_type": "code",
        "colab": {
          "autoexec": {
            "startup": false,
            "wait_interval": 0
          },
          "base_uri": "https://localhost:8080/",
          "height": 35
        },
        "outputId": "810242c2-b00d-4443-8b33-732c1361fdb4",
        "executionInfo": {
          "status": "ok",
          "timestamp": 1526512178409,
          "user_tz": -330,
          "elapsed": 1505,
          "user": {
            "displayName": "Devesh Saini",
            "photoUrl": "//lh5.googleusercontent.com/-ULsfV-SFjXw/AAAAAAAAAAI/AAAAAAAAFG4/vbqK1p4TOZ4/s50-c-k-no/photo.jpg",
            "userId": "104632412090252973797"
          }
        }
      },
      "cell_type": "code",
      "source": [
        "validation_score = model.evaluate(X_validate, y_validate, verbose=1)"
      ],
      "execution_count": 57,
      "outputs": [
        {
          "output_type": "stream",
          "text": [
            "3589/3589 [==============================] - 1s 184us/step\n"
          ],
          "name": "stdout"
        }
      ]
    },
    {
      "metadata": {
        "id": "cUIzdghyMjLT",
        "colab_type": "code",
        "colab": {
          "autoexec": {
            "startup": false,
            "wait_interval": 0
          },
          "base_uri": "https://localhost:8080/",
          "height": 51
        },
        "outputId": "76aba97a-5326-4ecc-a1ba-76f710205018",
        "executionInfo": {
          "status": "ok",
          "timestamp": 1526404739465,
          "user_tz": -330,
          "elapsed": 1272,
          "user": {
            "displayName": "Devesh Saini",
            "photoUrl": "//lh5.googleusercontent.com/-ULsfV-SFjXw/AAAAAAAAAAI/AAAAAAAAFG4/vbqK1p4TOZ4/s50-c-k-no/photo.jpg",
            "userId": "104632412090252973797"
          }
        }
      },
      "cell_type": "code",
      "source": [
        "print(' Validation SET Accuracy = '+ str(validation_score[1]))\n",
        "print(' Test SET Accuracy = '+ str(test_score[1]))"
      ],
      "execution_count": 21,
      "outputs": [
        {
          "output_type": "stream",
          "text": [
            " Validation SET Accuracy = 0.46252438008336844\n",
            " Test SET Accuracy = 0.45528002229863535\n"
          ],
          "name": "stdout"
        }
      ]
    },
    {
      "metadata": {
        "id": "qr15fn1tOrjo",
        "colab_type": "text"
      },
      "cell_type": "markdown",
      "source": [
        "# Visualization"
      ]
    },
    {
      "metadata": {
        "id": "Uuv9T4Ycfl6y",
        "colab_type": "code",
        "colab": {
          "autoexec": {
            "startup": false,
            "wait_interval": 0
          },
          "base_uri": "https://localhost:8080/",
          "height": 55
        },
        "outputId": "615d6761-dd5b-4ccc-8e15-ad864ec5dada",
        "executionInfo": {
          "status": "ok",
          "timestamp": 1526512200156,
          "user_tz": -330,
          "elapsed": 1758,
          "user": {
            "displayName": "Devesh Saini",
            "photoUrl": "//lh5.googleusercontent.com/-ULsfV-SFjXw/AAAAAAAAAAI/AAAAAAAAFG4/vbqK1p4TOZ4/s50-c-k-no/photo.jpg",
            "userId": "104632412090252973797"
          }
        }
      },
      "cell_type": "code",
      "source": [
        "config = model.get_config()\n",
        "print(config)"
      ],
      "execution_count": 60,
      "outputs": [
        {
          "output_type": "stream",
          "text": [
            "[{'class_name': 'Conv2D', 'config': {'name': 'conv2d_4', 'trainable': True, 'batch_input_shape': (None, 48, 48, 1), 'dtype': 'float32', 'filters': 128, 'kernel_size': (4, 4), 'strides': (2, 2), 'padding': 'valid', 'data_format': 'channels_last', 'dilation_rate': (1, 1), 'activation': 'linear', 'use_bias': True, 'kernel_initializer': {'class_name': 'VarianceScaling', 'config': {'scale': 1.0, 'mode': 'fan_avg', 'distribution': 'uniform', 'seed': None}}, 'bias_initializer': {'class_name': 'Zeros', 'config': {}}, 'kernel_regularizer': None, 'bias_regularizer': None, 'activity_regularizer': None, 'kernel_constraint': None, 'bias_constraint': None}}, {'class_name': 'Conv2D', 'config': {'name': 'conv2d_5', 'trainable': True, 'filters': 128, 'kernel_size': (4, 4), 'strides': (2, 2), 'padding': 'valid', 'data_format': 'channels_last', 'dilation_rate': (1, 1), 'activation': 'linear', 'use_bias': True, 'kernel_initializer': {'class_name': 'VarianceScaling', 'config': {'scale': 1.0, 'mode': 'fan_avg', 'distribution': 'uniform', 'seed': None}}, 'bias_initializer': {'class_name': 'Zeros', 'config': {}}, 'kernel_regularizer': None, 'bias_regularizer': None, 'activity_regularizer': None, 'kernel_constraint': None, 'bias_constraint': None}}, {'class_name': 'Conv2D', 'config': {'name': 'conv2d_6', 'trainable': True, 'filters': 128, 'kernel_size': (4, 4), 'strides': (2, 2), 'padding': 'valid', 'data_format': 'channels_last', 'dilation_rate': (1, 1), 'activation': 'linear', 'use_bias': True, 'kernel_initializer': {'class_name': 'VarianceScaling', 'config': {'scale': 1.0, 'mode': 'fan_avg', 'distribution': 'uniform', 'seed': None}}, 'bias_initializer': {'class_name': 'Zeros', 'config': {}}, 'kernel_regularizer': None, 'bias_regularizer': None, 'activity_regularizer': None, 'kernel_constraint': None, 'bias_constraint': None}}, {'class_name': 'MaxPooling2D', 'config': {'name': 'max_pooling2d_2', 'trainable': True, 'pool_size': (2, 2), 'padding': 'valid', 'strides': (2, 2), 'data_format': 'channels_last'}}, {'class_name': 'Flatten', 'config': {'name': 'flatten_2', 'trainable': True, 'data_format': 'channels_last'}}, {'class_name': 'Dense', 'config': {'name': 'dense_4', 'trainable': True, 'units': 512, 'activation': 'linear', 'use_bias': True, 'kernel_initializer': {'class_name': 'VarianceScaling', 'config': {'scale': 1.0, 'mode': 'fan_avg', 'distribution': 'uniform', 'seed': None}}, 'bias_initializer': {'class_name': 'Zeros', 'config': {}}, 'kernel_regularizer': None, 'bias_regularizer': None, 'activity_regularizer': None, 'kernel_constraint': None, 'bias_constraint': None}}, {'class_name': 'Activation', 'config': {'name': 'activation_3', 'trainable': True, 'activation': 'relu'}}, {'class_name': 'Dense', 'config': {'name': 'dense_5', 'trainable': True, 'units': 128, 'activation': 'linear', 'use_bias': True, 'kernel_initializer': {'class_name': 'VarianceScaling', 'config': {'scale': 1.0, 'mode': 'fan_avg', 'distribution': 'uniform', 'seed': None}}, 'bias_initializer': {'class_name': 'Zeros', 'config': {}}, 'kernel_regularizer': None, 'bias_regularizer': None, 'activity_regularizer': None, 'kernel_constraint': None, 'bias_constraint': None}}, {'class_name': 'Activation', 'config': {'name': 'activation_4', 'trainable': True, 'activation': 'relu'}}, {'class_name': 'Dense', 'config': {'name': 'dense_6', 'trainable': True, 'units': 7, 'activation': 'softmax', 'use_bias': True, 'kernel_initializer': {'class_name': 'VarianceScaling', 'config': {'scale': 1.0, 'mode': 'fan_avg', 'distribution': 'uniform', 'seed': None}}, 'bias_initializer': {'class_name': 'Zeros', 'config': {}}, 'kernel_regularizer': None, 'bias_regularizer': None, 'activity_regularizer': None, 'kernel_constraint': None, 'bias_constraint': None}}]\n"
          ],
          "name": "stdout"
        }
      ]
    },
    {
      "metadata": {
        "id": "49v3FCmKf-EH",
        "colab_type": "code",
        "colab": {
          "autoexec": {
            "startup": false,
            "wait_interval": 0
          },
          "base_uri": "https://localhost:8080/",
          "height": 2105
        },
        "outputId": "e4fd28b5-e1bc-488c-bfcb-780ddc776943",
        "executionInfo": {
          "status": "ok",
          "timestamp": 1526512198356,
          "user_tz": -330,
          "elapsed": 13769,
          "user": {
            "displayName": "Devesh Saini",
            "photoUrl": "//lh5.googleusercontent.com/-ULsfV-SFjXw/AAAAAAAAAAI/AAAAAAAAFG4/vbqK1p4TOZ4/s50-c-k-no/photo.jpg",
            "userId": "104632412090252973797"
          }
        }
      },
      "cell_type": "code",
      "source": [
        "# https://pypi.python.org/pypi/pydot\n",
        "!apt-get -qq install -y graphviz && pip install -q pydot\n",
        "import pydot"
      ],
      "execution_count": 59,
      "outputs": [
        {
          "output_type": "stream",
          "text": [
            "Selecting previously unselected package fontconfig.\n",
            "(Reading database ... 18298 files and directories currently installed.)\n",
            "Preparing to unpack .../00-fontconfig_2.11.94-0ubuntu2_amd64.deb ...\n",
            "Unpacking fontconfig (2.11.94-0ubuntu2) ...\n",
            "Selecting previously unselected package libjbig0:amd64.\n",
            "Preparing to unpack .../01-libjbig0_2.1-3.1_amd64.deb ...\n",
            "Unpacking libjbig0:amd64 (2.1-3.1) ...\n",
            "Selecting previously unselected package libcdt5.\n",
            "Preparing to unpack .../02-libcdt5_2.38.0-16ubuntu2_amd64.deb ...\n",
            "Unpacking libcdt5 (2.38.0-16ubuntu2) ...\n",
            "Selecting previously unselected package libcgraph6.\n",
            "Preparing to unpack .../03-libcgraph6_2.38.0-16ubuntu2_amd64.deb ...\n",
            "Unpacking libcgraph6 (2.38.0-16ubuntu2) ...\n",
            "Selecting previously unselected package libtiff5:amd64.\n",
            "Preparing to unpack .../04-libtiff5_4.0.8-5ubuntu0.1_amd64.deb ...\n",
            "Unpacking libtiff5:amd64 (4.0.8-5ubuntu0.1) ...\n",
            "Selecting previously unselected package libwebp6:amd64.\n",
            "Preparing to unpack .../05-libwebp6_0.6.0-3_amd64.deb ...\n",
            "Unpacking libwebp6:amd64 (0.6.0-3) ...\n",
            "Selecting previously unselected package libxpm4:amd64.\n",
            "Preparing to unpack .../06-libxpm4_1%3a3.5.12-1_amd64.deb ...\n",
            "Unpacking libxpm4:amd64 (1:3.5.12-1) ...\n",
            "Selecting previously unselected package libgd3:amd64.\n",
            "Preparing to unpack .../07-libgd3_2.2.5-3_amd64.deb ...\n",
            "Unpacking libgd3:amd64 (2.2.5-3) ...\n",
            "Selecting previously unselected package libpixman-1-0:amd64.\n",
            "Preparing to unpack .../08-libpixman-1-0_0.34.0-1_amd64.deb ...\n",
            "Unpacking libpixman-1-0:amd64 (0.34.0-1) ...\n",
            "Selecting previously unselected package libxcb-render0:amd64.\n",
            "Preparing to unpack .../09-libxcb-render0_1.12-1ubuntu1_amd64.deb ...\n",
            "Unpacking libxcb-render0:amd64 (1.12-1ubuntu1) ...\n",
            "Selecting previously unselected package libxcb-shm0:amd64.\n",
            "Preparing to unpack .../10-libxcb-shm0_1.12-1ubuntu1_amd64.deb ...\n",
            "Unpacking libxcb-shm0:amd64 (1.12-1ubuntu1) ...\n",
            "Selecting previously unselected package libcairo2:amd64.\n",
            "Preparing to unpack .../11-libcairo2_1.14.10-1ubuntu1_amd64.deb ...\n",
            "Unpacking libcairo2:amd64 (1.14.10-1ubuntu1) ...\n",
            "Selecting previously unselected package libltdl7:amd64.\n",
            "Preparing to unpack .../12-libltdl7_2.4.6-2_amd64.deb ...\n",
            "Unpacking libltdl7:amd64 (2.4.6-2) ...\n",
            "Selecting previously unselected package libthai-data.\n",
            "Preparing to unpack .../13-libthai-data_0.1.26-3_all.deb ...\n",
            "Unpacking libthai-data (0.1.26-3) ...\n",
            "Selecting previously unselected package libdatrie1:amd64.\n",
            "Preparing to unpack .../14-libdatrie1_0.2.10-5_amd64.deb ...\n",
            "Unpacking libdatrie1:amd64 (0.2.10-5) ...\n",
            "Selecting previously unselected package libthai0:amd64.\n",
            "Preparing to unpack .../15-libthai0_0.1.26-3_amd64.deb ...\n",
            "Unpacking libthai0:amd64 (0.1.26-3) ...\n",
            "Selecting previously unselected package libpango-1.0-0:amd64.\n",
            "Preparing to unpack .../16-libpango-1.0-0_1.40.12-1_amd64.deb ...\n",
            "Unpacking libpango-1.0-0:amd64 (1.40.12-1) ...\n",
            "Selecting previously unselected package libgraphite2-3:amd64.\n",
            "Preparing to unpack .../17-libgraphite2-3_1.3.10-2_amd64.deb ...\n",
            "Unpacking libgraphite2-3:amd64 (1.3.10-2) ...\n",
            "Selecting previously unselected package libharfbuzz0b:amd64.\n",
            "Preparing to unpack .../18-libharfbuzz0b_1.4.2-1_amd64.deb ...\n",
            "Unpacking libharfbuzz0b:amd64 (1.4.2-1) ...\n",
            "Selecting previously unselected package libpangoft2-1.0-0:amd64.\n",
            "Preparing to unpack .../19-libpangoft2-1.0-0_1.40.12-1_amd64.deb ...\n",
            "Unpacking libpangoft2-1.0-0:amd64 (1.40.12-1) ...\n",
            "Selecting previously unselected package libpangocairo-1.0-0:amd64.\n",
            "Preparing to unpack .../20-libpangocairo-1.0-0_1.40.12-1_amd64.deb ...\n",
            "Unpacking libpangocairo-1.0-0:amd64 (1.40.12-1) ...\n",
            "Selecting previously unselected package libpathplan4.\n",
            "Preparing to unpack .../21-libpathplan4_2.38.0-16ubuntu2_amd64.deb ...\n",
            "Unpacking libpathplan4 (2.38.0-16ubuntu2) ...\n",
            "Selecting previously unselected package libgvc6.\n",
            "Preparing to unpack .../22-libgvc6_2.38.0-16ubuntu2_amd64.deb ...\n",
            "Unpacking libgvc6 (2.38.0-16ubuntu2) ...\n",
            "Selecting previously unselected package libgvpr2.\n",
            "Preparing to unpack .../23-libgvpr2_2.38.0-16ubuntu2_amd64.deb ...\n",
            "Unpacking libgvpr2 (2.38.0-16ubuntu2) ...\n",
            "Selecting previously unselected package libxt6:amd64.\n",
            "Preparing to unpack .../24-libxt6_1%3a1.1.5-1_amd64.deb ...\n",
            "Unpacking libxt6:amd64 (1:1.1.5-1) ...\n",
            "Selecting previously unselected package libxmu6:amd64.\n",
            "Preparing to unpack .../25-libxmu6_2%3a1.1.2-2_amd64.deb ...\n",
            "Unpacking libxmu6:amd64 (2:1.1.2-2) ...\n",
            "Selecting previously unselected package libxaw7:amd64.\n",
            "Preparing to unpack .../26-libxaw7_2%3a1.0.13-1_amd64.deb ...\n",
            "Unpacking libxaw7:amd64 (2:1.0.13-1) ...\n",
            "Selecting previously unselected package graphviz.\n",
            "Preparing to unpack .../27-graphviz_2.38.0-16ubuntu2_amd64.deb ...\n",
            "Unpacking graphviz (2.38.0-16ubuntu2) ...\n",
            "Setting up libpathplan4 (2.38.0-16ubuntu2) ...\n",
            "Setting up libxcb-render0:amd64 (1.12-1ubuntu1) ...\n",
            "Setting up libjbig0:amd64 (2.1-3.1) ...\n",
            "Setting up libdatrie1:amd64 (0.2.10-5) ...\n",
            "Setting up libtiff5:amd64 (4.0.8-5ubuntu0.1) ...\n",
            "Setting up libgraphite2-3:amd64 (1.3.10-2) ...\n"
          ],
          "name": "stdout"
        },
        {
          "output_type": "stream",
          "text": [
            "Setting up libpixman-1-0:amd64 (0.34.0-1) ...\r\n",
            "Processing triggers for libc-bin (2.26-0ubuntu2.1) ...\n",
            "Setting up libltdl7:amd64 (2.4.6-2) ...\n",
            "Setting up libxcb-shm0:amd64 (1.12-1ubuntu1) ...\n",
            "Setting up libxpm4:amd64 (1:3.5.12-1) ...\n",
            "Setting up libxt6:amd64 (1:1.1.5-1) ...\n",
            "Setting up libthai-data (0.1.26-3) ...\n",
            "Setting up libcdt5 (2.38.0-16ubuntu2) ...\n",
            "Setting up fontconfig (2.11.94-0ubuntu2) ...\n",
            "Regenerating fonts cache... done.\n",
            "Setting up libcgraph6 (2.38.0-16ubuntu2) ...\n",
            "Setting up libwebp6:amd64 (0.6.0-3) ...\n",
            "Setting up libcairo2:amd64 (1.14.10-1ubuntu1) ...\n",
            "Setting up libgvpr2 (2.38.0-16ubuntu2) ...\n",
            "Setting up libgd3:amd64 (2.2.5-3) ...\n",
            "Setting up libharfbuzz0b:amd64 (1.4.2-1) ...\n",
            "Setting up libthai0:amd64 (0.1.26-3) ...\n",
            "Setting up libxmu6:amd64 (2:1.1.2-2) ...\n",
            "Setting up libpango-1.0-0:amd64 (1.40.12-1) ...\n",
            "Setting up libxaw7:amd64 (2:1.0.13-1) ...\n",
            "Setting up libpangoft2-1.0-0:amd64 (1.40.12-1) ...\n",
            "Setting up libpangocairo-1.0-0:amd64 (1.40.12-1) ...\n",
            "Setting up libgvc6 (2.38.0-16ubuntu2) ...\n",
            "Setting up graphviz (2.38.0-16ubuntu2) ...\n",
            "Processing triggers for libc-bin (2.26-0ubuntu2.1) ...\n"
          ],
          "name": "stdout"
        }
      ]
    },
    {
      "metadata": {
        "id": "BUKyZOk5ftOV",
        "colab_type": "code",
        "colab": {
          "autoexec": {
            "startup": false,
            "wait_interval": 0
          }
        }
      },
      "cell_type": "code",
      "source": [
        "file = 'weights.hdf5'\n",
        "model.save_weights(file)"
      ],
      "execution_count": 0,
      "outputs": []
    },
    {
      "metadata": {
        "id": "jMQOuD6fgSLO",
        "colab_type": "code",
        "colab": {
          "autoexec": {
            "startup": false,
            "wait_interval": 0
          },
          "base_uri": "https://localhost:8080/",
          "height": 287
        },
        "outputId": "7edad7c3-e399-4049-9a56-f38900d4c0ab",
        "executionInfo": {
          "status": "ok",
          "timestamp": 1526512513300,
          "user_tz": -330,
          "elapsed": 1728,
          "user": {
            "displayName": "Devesh Saini",
            "photoUrl": "//lh5.googleusercontent.com/-ULsfV-SFjXw/AAAAAAAAAAI/AAAAAAAAFG4/vbqK1p4TOZ4/s50-c-k-no/photo.jpg",
            "userId": "104632412090252973797"
          }
        }
      },
      "cell_type": "code",
      "source": [
        "os.listdir()"
      ],
      "execution_count": 62,
      "outputs": [
        {
          "output_type": "execute_result",
          "data": {
            "text/plain": [
              "['datalab',\n",
              " '.rnd',\n",
              " '.ipython',\n",
              " 'weights.hdf5',\n",
              " '.local',\n",
              " '.forever',\n",
              " 'weights.best.loss.hdf5',\n",
              " '.nv',\n",
              " 'weights.best.acc.hdf5',\n",
              " 'fer2013.tar.gz',\n",
              " '.keras',\n",
              " '.kaggle',\n",
              " '.config',\n",
              " '.cache',\n",
              " 'fer2013']"
            ]
          },
          "metadata": {
            "tags": []
          },
          "execution_count": 62
        }
      ]
    },
    {
      "metadata": {
        "id": "AVQqi3WOgi4d",
        "colab_type": "code",
        "colab": {
          "autoexec": {
            "startup": false,
            "wait_interval": 0
          }
        }
      },
      "cell_type": "code",
      "source": [
        "from google.colab import files\n",
        "files.download('weights.hdf5')"
      ],
      "execution_count": 0,
      "outputs": []
    },
    {
      "metadata": {
        "id": "u2t04040hcYc",
        "colab_type": "code",
        "colab": {
          "autoexec": {
            "startup": false,
            "wait_interval": 0
          },
          "base_uri": "https://localhost:8080/",
          "height": 621
        },
        "outputId": "69a66dcc-faf5-4317-9760-484e60d280b9",
        "executionInfo": {
          "status": "error",
          "timestamp": 1526512525611,
          "user_tz": -330,
          "elapsed": 1109,
          "user": {
            "displayName": "Devesh Saini",
            "photoUrl": "//lh5.googleusercontent.com/-ULsfV-SFjXw/AAAAAAAAAAI/AAAAAAAAFG4/vbqK1p4TOZ4/s50-c-k-no/photo.jpg",
            "userId": "104632412090252973797"
          }
        }
      },
      "cell_type": "code",
      "source": [
        "import pydot\n",
        "from IPython.display import SVG\n",
        "from keras.utils.vis_utils import model_to_dot\n",
        "\n",
        "SVG(model_to_dot(model).create(prog='dot', format='svg'))"
      ],
      "execution_count": 64,
      "outputs": [
        {
          "output_type": "error",
          "ename": "ImportError",
          "evalue": "ignored",
          "traceback": [
            "\u001b[0;31m---------------------------------------------------------------------------\u001b[0m",
            "\u001b[0;31mImportError\u001b[0m                               Traceback (most recent call last)",
            "\u001b[0;32m<ipython-input-64-771923dd2911>\u001b[0m in \u001b[0;36m<module>\u001b[0;34m()\u001b[0m\n\u001b[1;32m      3\u001b[0m \u001b[0;32mfrom\u001b[0m \u001b[0mkeras\u001b[0m\u001b[0;34m.\u001b[0m\u001b[0mutils\u001b[0m\u001b[0;34m.\u001b[0m\u001b[0mvis_utils\u001b[0m \u001b[0;32mimport\u001b[0m \u001b[0mmodel_to_dot\u001b[0m\u001b[0;34m\u001b[0m\u001b[0m\n\u001b[1;32m      4\u001b[0m \u001b[0;34m\u001b[0m\u001b[0m\n\u001b[0;32m----> 5\u001b[0;31m \u001b[0mSVG\u001b[0m\u001b[0;34m(\u001b[0m\u001b[0mmodel_to_dot\u001b[0m\u001b[0;34m(\u001b[0m\u001b[0mmodel\u001b[0m\u001b[0;34m)\u001b[0m\u001b[0;34m.\u001b[0m\u001b[0mcreate\u001b[0m\u001b[0;34m(\u001b[0m\u001b[0mprog\u001b[0m\u001b[0;34m=\u001b[0m\u001b[0;34m'dot'\u001b[0m\u001b[0;34m,\u001b[0m \u001b[0mformat\u001b[0m\u001b[0;34m=\u001b[0m\u001b[0;34m'svg'\u001b[0m\u001b[0;34m)\u001b[0m\u001b[0;34m)\u001b[0m\u001b[0;34m\u001b[0m\u001b[0m\n\u001b[0m",
            "\u001b[0;32m/usr/local/lib/python3.6/dist-packages/keras/utils/vis_utils.py\u001b[0m in \u001b[0;36mmodel_to_dot\u001b[0;34m(model, show_shapes, show_layer_names, rankdir)\u001b[0m\n\u001b[1;32m     53\u001b[0m     \u001b[0;32mfrom\u001b[0m \u001b[0;34m.\u001b[0m\u001b[0;34m.\u001b[0m\u001b[0mmodels\u001b[0m \u001b[0;32mimport\u001b[0m \u001b[0mSequential\u001b[0m\u001b[0;34m\u001b[0m\u001b[0m\n\u001b[1;32m     54\u001b[0m \u001b[0;34m\u001b[0m\u001b[0m\n\u001b[0;32m---> 55\u001b[0;31m     \u001b[0m_check_pydot\u001b[0m\u001b[0;34m(\u001b[0m\u001b[0;34m)\u001b[0m\u001b[0;34m\u001b[0m\u001b[0m\n\u001b[0m\u001b[1;32m     56\u001b[0m     \u001b[0mdot\u001b[0m \u001b[0;34m=\u001b[0m \u001b[0mpydot\u001b[0m\u001b[0;34m.\u001b[0m\u001b[0mDot\u001b[0m\u001b[0;34m(\u001b[0m\u001b[0;34m)\u001b[0m\u001b[0;34m\u001b[0m\u001b[0m\n\u001b[1;32m     57\u001b[0m     \u001b[0mdot\u001b[0m\u001b[0;34m.\u001b[0m\u001b[0mset\u001b[0m\u001b[0;34m(\u001b[0m\u001b[0;34m'rankdir'\u001b[0m\u001b[0;34m,\u001b[0m \u001b[0mrankdir\u001b[0m\u001b[0;34m)\u001b[0m\u001b[0;34m\u001b[0m\u001b[0m\n",
            "\u001b[0;32m/usr/local/lib/python3.6/dist-packages/keras/utils/vis_utils.py\u001b[0m in \u001b[0;36m_check_pydot\u001b[0;34m()\u001b[0m\n\u001b[1;32m     18\u001b[0m     \u001b[0;32mif\u001b[0m \u001b[0mpydot\u001b[0m \u001b[0;32mis\u001b[0m \u001b[0;32mNone\u001b[0m\u001b[0;34m:\u001b[0m\u001b[0;34m\u001b[0m\u001b[0m\n\u001b[1;32m     19\u001b[0m         raise ImportError(\n\u001b[0;32m---> 20\u001b[0;31m             \u001b[0;34m'Failed to import `pydot`. '\u001b[0m\u001b[0;34m\u001b[0m\u001b[0m\n\u001b[0m\u001b[1;32m     21\u001b[0m             \u001b[0;34m'Please install `pydot`. '\u001b[0m\u001b[0;34m\u001b[0m\u001b[0m\n\u001b[1;32m     22\u001b[0m             'For example with `pip install pydot`.')\n",
            "\u001b[0;31mImportError\u001b[0m: Failed to import `pydot`. Please install `pydot`. For example with `pip install pydot`.",
            "",
            "\u001b[0;31m---------------------------------------------------------------------------\u001b[0;32m\nNOTE: If your import is failing due to a missing package, you can\nmanually install dependencies using either !pip or !apt.\n\nTo view examples of installing some common dependencies, click the\n\"Open Examples\" button below.\n\u001b[0;31m---------------------------------------------------------------------------\u001b[0m\n"
          ]
        }
      ]
    },
    {
      "metadata": {
        "id": "XUDp0y2Tk8-u",
        "colab_type": "code",
        "colab": {
          "autoexec": {
            "startup": false,
            "wait_interval": 0
          },
          "base_uri": "https://localhost:8080/",
          "height": 53
        },
        "outputId": "6606a93f-e562-4ae8-b3a2-520c34c515ae",
        "executionInfo": {
          "status": "ok",
          "timestamp": 1526512535088,
          "user_tz": -330,
          "elapsed": 6308,
          "user": {
            "displayName": "Devesh Saini",
            "photoUrl": "//lh5.googleusercontent.com/-ULsfV-SFjXw/AAAAAAAAAAI/AAAAAAAAFG4/vbqK1p4TOZ4/s50-c-k-no/photo.jpg",
            "userId": "104632412090252973797"
          }
        }
      },
      "cell_type": "code",
      "source": [
        "score = model.evaluate(X_train,y_train,verbose = 1)\n",
        "score"
      ],
      "execution_count": 65,
      "outputs": [
        {
          "output_type": "stream",
          "text": [
            "28709/28709 [==============================] - 5s 185us/step\n"
          ],
          "name": "stdout"
        },
        {
          "output_type": "execute_result",
          "data": {
            "text/plain": [
              "[0.30348533963988106, 0.8982200703612108]"
            ]
          },
          "metadata": {
            "tags": []
          },
          "execution_count": 65
        }
      ]
    },
    {
      "metadata": {
        "id": "aLf6nljv2HxA",
        "colab_type": "text"
      },
      "cell_type": "markdown",
      "source": [
        "# Metrics"
      ]
    },
    {
      "metadata": {
        "id": "fsV-FglMY0ga",
        "colab_type": "code",
        "colab": {
          "autoexec": {
            "startup": false,
            "wait_interval": 0
          }
        }
      },
      "cell_type": "code",
      "source": [
        "from sklearn.metrics import confusion_matrix,precision_score,recall_score,f1_score,cohen_kappa_score\n",
        "\n"
      ],
      "execution_count": 0,
      "outputs": []
    },
    {
      "metadata": {
        "id": "eBR3X26HcfoN",
        "colab_type": "code",
        "colab": {
          "autoexec": {
            "startup": false,
            "wait_interval": 0
          },
          "base_uri": "https://localhost:8080/",
          "height": 51
        },
        "outputId": "142046f8-b0f7-4cfd-a2e0-26a1e35581d8",
        "executionInfo": {
          "status": "ok",
          "timestamp": 1524865322913,
          "user_tz": -330,
          "elapsed": 1759,
          "user": {
            "displayName": "Devesh Saini",
            "photoUrl": "//lh5.googleusercontent.com/-ULsfV-SFjXw/AAAAAAAAAAI/AAAAAAAAFG4/vbqK1p4TOZ4/s50-c-k-no/photo.jpg",
            "userId": "104632412090252973797"
          }
        }
      },
      "cell_type": "code",
      "source": [
        "y_pred = model.predict(X_test)\n",
        "print(y_test.shape)\n",
        "print(y_pred.shape)\n",
        "\n"
      ],
      "execution_count": 54,
      "outputs": [
        {
          "output_type": "stream",
          "text": [
            "(3589, 7)\n",
            "(3589, 7)\n"
          ],
          "name": "stdout"
        }
      ]
    },
    {
      "metadata": {
        "id": "V9ZbsFeEDoZn",
        "colab_type": "code",
        "colab": {
          "autoexec": {
            "startup": false,
            "wait_interval": 0
          }
        }
      },
      "cell_type": "code",
      "source": [
        "test_data = y_validate.argmax(1)\n",
        "pred_data = y_pred.argmax(1)"
      ],
      "execution_count": 0,
      "outputs": []
    },
    {
      "metadata": {
        "id": "90I4MJYHc-PA",
        "colab_type": "code",
        "colab": {
          "autoexec": {
            "startup": false,
            "wait_interval": 0
          },
          "base_uri": "https://localhost:8080/",
          "height": 500
        },
        "outputId": "64fa7400-7097-41e5-f45b-a347103472ba",
        "executionInfo": {
          "status": "ok",
          "timestamp": 1524865362094,
          "user_tz": -330,
          "elapsed": 993,
          "user": {
            "displayName": "Devesh Saini",
            "photoUrl": "//lh5.googleusercontent.com/-ULsfV-SFjXw/AAAAAAAAAAI/AAAAAAAAFG4/vbqK1p4TOZ4/s50-c-k-no/photo.jpg",
            "userId": "104632412090252973797"
          }
        }
      },
      "cell_type": "code",
      "source": [
        "test_data = y_validate.argmax(1)\n",
        "pred_data = y_pred.argmax(1)\n",
        "cm = confusion_matrix(test_data,pred_data)\n",
        "print(cm)\n",
        "\n",
        "val = 0\n",
        "for i in range(0,7):\n",
        "    val += cm[i][i]\n",
        "print('Validation Set Accuracy = ' + str(val/(index2-index1)))\n",
        "\n",
        "max_val = cm.max()\n",
        "\n",
        "plt.imshow(cm)\n",
        "plt.imshow(cm,cmap='gray')\n",
        "\n",
        "weight_list = []\n",
        "\n",
        "for i in range(0,7):\n",
        "    weight_list.append(0)\n",
        "\n",
        "for x in pred_data:\n",
        "    weight_list[x] += 1\n",
        "    \n",
        "nm = cm\n",
        "\n",
        "\n",
        "for i in range(0,7):\n",
        "    for j in range(0,7):\n",
        "        nm[i][j] *= max_val\n",
        "        nm[i][j] /= weight_list[i]\n",
        "        \n",
        "plt.imshow(cm,cmap = 'gray')        \n",
        "plt.imshow(cm,interpolation='nearest') # Visualizing Confusion Matrix\n"
      ],
      "execution_count": 56,
      "outputs": [
        {
          "output_type": "stream",
          "text": [
            "[[ 88   8  62 124  80  37  68]\n",
            " [ 11   3   4  14  11   2  11]\n",
            " [ 74   3  67 117  95  49  91]\n",
            " [131  16 119 208 181  91 149]\n",
            " [ 95  13 103 126 142  77  97]\n",
            " [ 54   5  55 104  76  52  69]\n",
            " [ 76  17 101 134  97  78 104]]\n",
            "Validation Set Accuracy = 0.18500975202006129\n"
          ],
          "name": "stdout"
        },
        {
          "output_type": "execute_result",
          "data": {
            "text/plain": [
              "<matplotlib.image.AxesImage at 0x7fe9045961d0>"
            ]
          },
          "metadata": {
            "tags": []
          },
          "execution_count": 56
        },
        {
          "output_type": "display_data",
          "data": {
            "image/png": "[encoded data removed]",
            "text/plain": [
              "<matplotlib.figure.Figure at 0x7fe9045cf828>"
            ]
          },
          "metadata": {
            "tags": []
          }
        }
      ]
    },
    {
      "metadata": {
        "id": "_41WQBA-c_9B",
        "colab_type": "code",
        "colab": {
          "autoexec": {
            "startup": false,
            "wait_interval": 0
          },
          "base_uri": "https://localhost:8080/",
          "height": 364
        },
        "outputId": "3537fcfb-acbb-4d0b-de67-6e9d7aeb53d1",
        "executionInfo": {
          "status": "ok",
          "timestamp": 1524865405258,
          "user_tz": -330,
          "elapsed": 1717,
          "user": {
            "displayName": "Devesh Saini",
            "photoUrl": "//lh5.googleusercontent.com/-ULsfV-SFjXw/AAAAAAAAAAI/AAAAAAAAFG4/vbqK1p4TOZ4/s50-c-k-no/photo.jpg",
            "userId": "104632412090252973797"
          }
        }
      },
      "cell_type": "code",
      "source": [
        "# Heat Map\n",
        "\n",
        "labels = ['Angry','Disgust','Fear','Happy','Sad','Surprise','Neutral']\n",
        "\n",
        "import seaborn as sn\n",
        "\n",
        "df_cm = pd.DataFrame(nm,index = [labels[i] for i in range(0,7)],columns = [labels[i] for i in range(0,7)])\n",
        "sn.set(font_scale = 1)\n",
        "sn.heatmap(df_cm,annot = True)\n"
      ],
      "execution_count": 58,
      "outputs": [
        {
          "output_type": "execute_result",
          "data": {
            "text/plain": [
              "<matplotlib.axes._subplots.AxesSubplot at 0x7fe9723d7080>"
            ]
          },
          "metadata": {
            "tags": []
          },
          "execution_count": 58
        },
        {
          "output_type": "display_data",
          "data": {
            "image/png": "[encoded data removed]",
            "text/plain": [
              "<matplotlib.figure.Figure at 0x7fe907f3d588>"
            ]
          },
          "metadata": {
            "tags": []
          }
        }
      ]
    },
    {
      "metadata": {
        "id": "gZ7ONks50UPz",
        "colab_type": "code",
        "colab": {
          "autoexec": {
            "startup": false,
            "wait_interval": 0
          }
        }
      },
      "cell_type": "code",
      "source": [
        ""
      ],
      "execution_count": 0,
      "outputs": []
    },
    {
      "metadata": {
        "id": "CLauZ9zZyrqa",
        "colab_type": "text"
      },
      "cell_type": "markdown",
      "source": [
        "# Web Cam\n"
      ]
    },
    {
      "metadata": {
        "id": "PT2JtgA60OIW",
        "colab_type": "text"
      },
      "cell_type": "markdown",
      "source": [
        "Run time dies automatically on Execution"
      ]
    },
    {
      "metadata": {
        "id": "B6t-J2nCyw88",
        "colab_type": "code",
        "colab": {
          "autoexec": {
            "startup": false,
            "wait_interval": 0
          }
        }
      },
      "cell_type": "code",
      "source": [
        "import cv2\n"
      ],
      "execution_count": 0,
      "outputs": []
    },
    {
      "metadata": {
        "id": "pXoUaNLY0C6M",
        "colab_type": "code",
        "colab": {
          "autoexec": {
            "startup": false,
            "wait_interval": 0
          }
        }
      },
      "cell_type": "code",
      "source": [
        "cv2.namedWindow('image', cv2.WINDOW_NORMAL)\n",
        "cv2.imshow('image',img)\n"
      ],
      "execution_count": 0,
      "outputs": []
    },
    {
      "metadata": {
        "id": "W5V-pchN0Go9",
        "colab_type": "code",
        "colab": {
          "autoexec": {
            "startup": false,
            "wait_interval": 0
          }
        }
      },
      "cell_type": "code",
      "source": [
        "cv2.waitKey(0)\n",
        "cv2.destroyAllWindows()\n",
        "\n",
        "cam = cv2.VideoCapture(0)\n",
        "\n",
        "while True:\n",
        "    ret, frame = cam.read()\n",
        "    cv2.imshow('video out',img)\n",
        "    k = cv2.waitKey(10)& 0xff\n",
        "\n",
        "    if k%256 == 27:\n",
        "        # ESC pressed\n",
        "        print(\"Escape hit, closing...\")\n",
        "        break\n",
        "\n",
        "# =============================================================================\n",
        "#     elif k%256 == 32:\n",
        "#         # SPACE pressed\n",
        "#         img_name = \"opencv_frame_{}.png\".format(img_counter)\n",
        "#         cv2.imwrite(img_name, frame)\n",
        "#         print(\"{} written!\".format(img_name))\n",
        "#         img_counter += 1\n",
        "# \n",
        "# =============================================================================\n",
        "cam.release()\n",
        "\n",
        "cv2.destroyAllWindows()"
      ],
      "execution_count": 0,
      "outputs": []
    }
  ]
}