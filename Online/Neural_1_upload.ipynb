{
  "nbformat": 4,
  "nbformat_minor": 0,
  "metadata": {
    "colab": {
      "name": "Neural_1_upload.ipynb",
      "version": "0.3.2",
      "views": {},
      "default_view": {},
      "provenance": [],
      "collapsed_sections": [],
      "toc_visible": true
    },
    "kernelspec": {
      "name": "python3",
      "display_name": "Python 3"
    },
    "accelerator": "GPU"
  },
  "cells": [
    {
      "metadata": {
        "id": "kdefKIuZvH3K",
        "colab_type": "code",
        "colab": {
          "autoexec": {
            "startup": false,
            "wait_interval": 0
          }
        }
      },
      "cell_type": "code",
      "source": [
        "# -*- coding: utf-8 -*-\n",
        "\n",
        "\"\"\"\n",
        "\n",
        " The data consists of 48x48 pixel grayscale images of faces. The faces have been\n",
        " automatically registered so that the face is more or less centered and \n",
        " occupies about the same amount of space in each image. \n",
        " The task is to categorize each face based on the emotion \n",
        " shown in the facial expression in to one of seven categories \n",
        " (0=Angry, 1=Disgust, 2=Fear, 3=Happy, 4=Sad, 5=Surprise, 6=Neutral).\n",
        "\n",
        " train.csv contains two columns, \"emotion\" and \"pixels\".\n",
        " The \"emotion\" column contains a numeric code ranging from 0 to 6,\n",
        " inclusive, for the emotion that is present in the image.\n",
        " The \"pixels\" column contains a string surrounded in quotes for each image.\n",
        " The contents of this string a space-separated pixel values in row major order. \n",
        " \n",
        "\"\"\"\n",
        "\n",
        "import numpy as np\n",
        "import pandas as pd\n",
        "import matplotlib.pyplot as plt\n",
        "\n"
      ],
      "execution_count": 0,
      "outputs": []
    },
    {
      "metadata": {
        "id": "AafF_3F02u_E",
        "colab_type": "code",
        "colab": {
          "autoexec": {
            "startup": false,
            "wait_interval": 0
          }
        }
      },
      "cell_type": "code",
      "source": [
        "from google.colab import files"
      ],
      "execution_count": 0,
      "outputs": []
    },
    {
      "metadata": {
        "id": "OP2y5k5624K8",
        "colab_type": "code",
        "colab": {
          "autoexec": {
            "startup": false,
            "wait_interval": 0
          },
          "resources": {
            "http://localhost:8080/nbextensions/google.colab/files.js": {
              "data": "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",
              "ok": true,
              "headers": [
                [
                  "content-type",
                  "application/javascript"
                ]
              ],
              "status": 200,
              "status_text": ""
            }
          },
          "base_uri": "https://localhost:8080/",
          "height": 72
        },
        "outputId": "c807776e-4f2d-43f2-a290-44b61494da71"
      },
      "cell_type": "code",
      "source": [
        "uploaded = files.upload()"
      ],
      "execution_count": 0,
      "outputs": [
        {
          "output_type": "display_data",
          "data": {
            "text/html": [
              "\n",
              "     <input type=\"file\" id=\"files-d882402f-ba3e-4f26-898e-33c853bb97a6\" name=\"files[]\" multiple disabled />\n",
              "     <output id=\"result-d882402f-ba3e-4f26-898e-33c853bb97a6\">\n",
              "      Upload widget is only available when the cell has been executed in the\n",
              "      current browser session. Please rerun this cell to enable.\n",
              "      </output>\n",
              "      <script src=\"/nbextensions/google.colab/files.js\"></script> "
            ],
            "text/plain": [
              "<IPython.core.display.HTML object>"
            ]
          },
          "metadata": {
            "tags": []
          }
        },
        {
          "output_type": "stream",
          "text": [
            "Saving fer2013.csv to fer2013.csv\n"
          ],
          "name": "stdout"
        }
      ]
    },
    {
      "metadata": {
        "id": "OTJsvAbPD_vn",
        "colab_type": "code",
        "colab": {
          "autoexec": {
            "startup": false,
            "wait_interval": 0
          },
          "base_uri": "https://localhost:8080/",
          "height": 34
        },
        "outputId": "9ccfea68-1003-46e1-a610-ab96aa3e7209",
        "executionInfo": {
          "status": "ok",
          "timestamp": 1523570493375,
          "user_tz": -330,
          "elapsed": 1298,
          "user": {
            "displayName": "Devesh Saini",
            "photoUrl": "//lh5.googleusercontent.com/-ULsfV-SFjXw/AAAAAAAAAAI/AAAAAAAAFG4/vbqK1p4TOZ4/s50-c-k-no/photo.jpg",
            "userId": "104632412090252973797"
          }
        }
      },
      "cell_type": "code",
      "source": [
        "for fn in uploaded.keys():\n",
        "  print('User uploaded file \"{name}\" with length {length} bytes'.format(\n",
        "      name=fn, length=len(uploaded[fn])))"
      ],
      "execution_count": 4,
      "outputs": [
        {
          "output_type": "stream",
          "text": [
            "User uploaded file \"fer2013.csv\" with length 301072766 bytes\n"
          ],
          "name": "stdout"
        }
      ]
    },
    {
      "metadata": {
        "id": "bErP9RhE3Sqj",
        "colab_type": "code",
        "colab": {
          "autoexec": {
            "startup": false,
            "wait_interval": 0
          }
        }
      },
      "cell_type": "code",
      "source": [
        "uploaded"
      ],
      "execution_count": 0,
      "outputs": []
    },
    {
      "metadata": {
        "id": "Hg4p4iYV28Cg",
        "colab_type": "code",
        "colab": {
          "autoexec": {
            "startup": false,
            "wait_interval": 0
          }
        }
      },
      "cell_type": "code",
      "source": [
        "import pandas as pd\n",
        "dataset = pd.read_csv(\"fer2013.csv\")"
      ],
      "execution_count": 0,
      "outputs": []
    },
    {
      "metadata": {
        "id": "d_B5zFaW4r04",
        "colab_type": "code",
        "colab": {
          "autoexec": {
            "startup": false,
            "wait_interval": 0
          }
        }
      },
      "cell_type": "code",
      "source": [
        "import numpy as np\n",
        "y = dataset.iloc[:,0:1].values\n",
        "\n",
        "X = np.zeros(shape=(dataset.shape[0],48,48))\n",
        "\n",
        "for i in range(dataset.shape[0]):\n",
        "    a = dataset['pixels'][i].split(' ')\n",
        "    b = [int(x) for x in a]\n",
        "    c = np.asarray(b,dtype = 'float32')\n",
        "    d = c.reshape(48,48)\n",
        "    X[i] = d\n",
        "    \n",
        "X = X.astype('float32')\n",
        "X = X/255\n",
        "\n",
        "classes = 7"
      ],
      "execution_count": 0,
      "outputs": []
    },
    {
      "metadata": {
        "id": "uvOOj_Iv4xUZ",
        "colab_type": "code",
        "colab": {
          "autoexec": {
            "startup": false,
            "wait_interval": 0
          }
        }
      },
      "cell_type": "code",
      "source": [
        "X_train = X[0:28709,:]\n",
        "X_test = X[28709:,:]\n",
        "y_train = y[0:28709,:]\n",
        "y_test = y[28709:,:]\n"
      ],
      "execution_count": 0,
      "outputs": []
    },
    {
      "metadata": {
        "id": "BqW1cWa74-Uw",
        "colab_type": "code",
        "colab": {
          "autoexec": {
            "startup": false,
            "wait_interval": 0
          },
          "base_uri": "https://localhost:8080/",
          "height": 51
        },
        "outputId": "2707c2fa-83db-4ce4-933e-19cf1cf8bee0",
        "executionInfo": {
          "status": "ok",
          "timestamp": 1523570722640,
          "user_tz": -330,
          "elapsed": 982,
          "user": {
            "displayName": "Devesh Saini",
            "photoUrl": "//lh5.googleusercontent.com/-ULsfV-SFjXw/AAAAAAAAAAI/AAAAAAAAFG4/vbqK1p4TOZ4/s50-c-k-no/photo.jpg",
            "userId": "104632412090252973797"
          }
        }
      },
      "cell_type": "code",
      "source": [
        "print(X_train.shape)\n",
        "print(y_train.shape)"
      ],
      "execution_count": 7,
      "outputs": [
        {
          "output_type": "stream",
          "text": [
            "(28709, 48, 48)\n",
            "(28709, 1)\n"
          ],
          "name": "stdout"
        }
      ]
    },
    {
      "metadata": {
        "id": "U3R3OhTw5EMx",
        "colab_type": "code",
        "colab": {
          "autoexec": {
            "startup": false,
            "wait_interval": 0
          },
          "base_uri": "https://localhost:8080/",
          "height": 1462
        },
        "outputId": "44313956-26c1-47c8-f4b0-fa37baa9ffe8",
        "executionInfo": {
          "status": "ok",
          "timestamp": 1523570767942,
          "user_tz": -330,
          "elapsed": 1413,
          "user": {
            "displayName": "Devesh Saini",
            "photoUrl": "//lh5.googleusercontent.com/-ULsfV-SFjXw/AAAAAAAAAAI/AAAAAAAAFG4/vbqK1p4TOZ4/s50-c-k-no/photo.jpg",
            "userId": "104632412090252973797"
          }
        }
      },
      "cell_type": "code",
      "source": [
        "X"
      ],
      "execution_count": 9,
      "outputs": [
        {
          "output_type": "execute_result",
          "data": {
            "text/plain": [
              "array([[[0.27450982, 0.3137255 , 0.32156864, ..., 0.20392157,\n",
              "         0.16862746, 0.16078432],\n",
              "        [0.25490198, 0.23921569, 0.22745098, ..., 0.21960784,\n",
              "         0.20392157, 0.17254902],\n",
              "        [0.19607843, 0.16862746, 0.21176471, ..., 0.19215687,\n",
              "         0.21960784, 0.18431373],\n",
              "        ...,\n",
              "        [0.35686275, 0.25490198, 0.16470589, ..., 0.28235295,\n",
              "         0.21960784, 0.16862746],\n",
              "        [0.3019608 , 0.32156864, 0.30980393, ..., 0.4117647 ,\n",
              "         0.27450982, 0.18039216],\n",
              "        [0.3019608 , 0.28235295, 0.32941177, ..., 0.41568628,\n",
              "         0.42745098, 0.32156864]],\n",
              "\n",
              "       [[0.5921569 , 0.5882353 , 0.5764706 , ..., 0.5058824 ,\n",
              "         0.54901963, 0.47058824],\n",
              "        [0.5921569 , 0.58431375, 0.58431375, ..., 0.47843137,\n",
              "         0.5529412 , 0.5372549 ],\n",
              "        [0.5921569 , 0.5921569 , 0.6117647 , ..., 0.42745098,\n",
              "         0.48235294, 0.57254905],\n",
              "        ...,\n",
              "        [0.7372549 , 0.7372549 , 0.4745098 , ..., 0.7254902 ,\n",
              "         0.7254902 , 0.7294118 ],\n",
              "        [0.7372549 , 0.73333335, 0.76862746, ..., 0.7294118 ,\n",
              "         0.7137255 , 0.73333335],\n",
              "        [0.7294118 , 0.72156864, 0.7254902 , ..., 0.75686276,\n",
              "         0.7176471 , 0.72156864]],\n",
              "\n",
              "       [[0.90588236, 0.83137256, 0.6117647 , ..., 0.17254902,\n",
              "         0.10588235, 0.0627451 ],\n",
              "        [0.8980392 , 0.6862745 , 0.5803922 , ..., 0.10588235,\n",
              "         0.13725491, 0.10588235],\n",
              "        [0.8392157 , 0.6117647 , 0.6156863 , ..., 0.10980392,\n",
              "         0.08627451, 0.10980392],\n",
              "        ...,\n",
              "        [0.94509804, 0.9607843 , 0.98039216, ..., 0.22352941,\n",
              "         0.39607844, 0.57254905],\n",
              "        [0.9647059 , 0.98039216, 0.9882353 , ..., 0.30588236,\n",
              "         0.4117647 , 0.63529414],\n",
              "        [0.98039216, 0.9843137 , 0.98039216, ..., 0.34509805,\n",
              "         0.43137255, 0.59607846]],\n",
              "\n",
              "       ...,\n",
              "\n",
              "       [[0.06666667, 0.06666667, 0.0627451 , ..., 0.3254902 ,\n",
              "         0.44705883, 0.9607843 ],\n",
              "        [0.07058824, 0.06666667, 0.0627451 , ..., 0.40784314,\n",
              "         0.53333336, 0.99215686],\n",
              "        [0.07450981, 0.0627451 , 0.06666667, ..., 0.5019608 ,\n",
              "         0.59607846, 1.        ],\n",
              "        ...,\n",
              "        [0.01568628, 0.08235294, 0.18039216, ..., 0.7294118 ,\n",
              "         0.7058824 , 0.73333335],\n",
              "        [0.01960784, 0.06666667, 0.16078432, ..., 0.69411767,\n",
              "         0.6745098 , 0.6901961 ],\n",
              "        [0.07843138, 0.05882353, 0.08627451, ..., 0.6039216 ,\n",
              "         0.52156866, 0.44313726]],\n",
              "\n",
              "       [[0.11764706, 0.10980392, 0.10980392, ..., 0.23529412,\n",
              "         0.19607843, 0.17254902],\n",
              "        [0.11764706, 0.10588235, 0.10980392, ..., 0.2509804 ,\n",
              "         0.20392157, 0.15686275],\n",
              "        [0.12156863, 0.10980392, 0.11764706, ..., 0.23921569,\n",
              "         0.21176471, 0.14509805],\n",
              "        ...,\n",
              "        [0.40784314, 0.42745098, 0.43137255, ..., 0.13725491,\n",
              "         0.11764706, 0.11764706],\n",
              "        [0.4       , 0.4117647 , 0.42352942, ..., 0.13725491,\n",
              "         0.12156863, 0.11372549],\n",
              "        [0.3647059 , 0.3764706 , 0.39215687, ..., 0.13725491,\n",
              "         0.11764706, 0.10980392]],\n",
              "\n",
              "       [[0.07450981, 0.05098039, 0.05490196, ..., 0.42352942,\n",
              "         0.37254903, 0.3372549 ],\n",
              "        [0.0627451 , 0.06666667, 0.05882353, ..., 0.4117647 ,\n",
              "         0.36862746, 0.3529412 ],\n",
              "        [0.03921569, 0.03529412, 0.03921569, ..., 0.39607844,\n",
              "         0.3647059 , 0.37254903],\n",
              "        ...,\n",
              "        [0.07058824, 0.05490196, 0.0627451 , ..., 0.21568628,\n",
              "         0.2509804 , 0.37254903],\n",
              "        [0.05882353, 0.05882353, 0.05098039, ..., 0.48235294,\n",
              "         0.67058825, 0.7529412 ],\n",
              "        [0.0627451 , 0.05490196, 0.05098039, ..., 0.7411765 ,\n",
              "         0.78039217, 0.7882353 ]]], dtype=float32)"
            ]
          },
          "metadata": {
            "tags": []
          },
          "execution_count": 9
        }
      ]
    },
    {
      "metadata": {
        "id": "dzyVR1tF5HTx",
        "colab_type": "text"
      },
      "cell_type": "markdown",
      "source": [
        "# Neural Network"
      ]
    },
    {
      "metadata": {
        "id": "WXwisp1f5Lv0",
        "colab_type": "code",
        "colab": {
          "autoexec": {
            "startup": false,
            "wait_interval": 0
          },
          "base_uri": "https://localhost:8080/",
          "height": 34
        },
        "outputId": "cb576e53-55c6-4a7a-8de1-97557d094860",
        "executionInfo": {
          "status": "ok",
          "timestamp": 1523570766518,
          "user_tz": -330,
          "elapsed": 10217,
          "user": {
            "displayName": "Devesh Saini",
            "photoUrl": "//lh5.googleusercontent.com/-ULsfV-SFjXw/AAAAAAAAAAI/AAAAAAAAFG4/vbqK1p4TOZ4/s50-c-k-no/photo.jpg",
            "userId": "104632412090252973797"
          }
        }
      },
      "cell_type": "code",
      "source": [
        "import keras\n",
        "from keras.models import Sequential\n",
        "from keras.layers import Dense,Dropout,Flatten,Activation,Convolution2D,MaxPooling2D,BatchNormalization\n",
        "from keras.utils import np_utils\n"
      ],
      "execution_count": 8,
      "outputs": [
        {
          "output_type": "stream",
          "text": [
            "Using TensorFlow backend.\n"
          ],
          "name": "stderr"
        }
      ]
    },
    {
      "metadata": {
        "id": "1GDDrf7o5Mpq",
        "colab_type": "code",
        "colab": {
          "autoexec": {
            "startup": false,
            "wait_interval": 0
          }
        }
      },
      "cell_type": "code",
      "source": [
        "y_train = np_utils.to_categorical(y_train,classes)\n",
        "y_test = np_utils.to_categorical(y_test,classes)\n",
        "X_train = X_train.reshape(X_train.shape[0],48,48,1)\n",
        "X_test = X_test.reshape(X_test.shape[0],48,48,1)"
      ],
      "execution_count": 0,
      "outputs": []
    },
    {
      "metadata": {
        "id": "2TRTZ5NG5T_M",
        "colab_type": "code",
        "colab": {
          "autoexec": {
            "startup": false,
            "wait_interval": 0
          },
          "base_uri": "https://localhost:8080/",
          "height": 51
        },
        "outputId": "bba3c35a-c8eb-4b30-80f2-41c1aaef83e6",
        "executionInfo": {
          "status": "ok",
          "timestamp": 1523570810913,
          "user_tz": -330,
          "elapsed": 1064,
          "user": {
            "displayName": "Devesh Saini",
            "photoUrl": "//lh5.googleusercontent.com/-ULsfV-SFjXw/AAAAAAAAAAI/AAAAAAAAFG4/vbqK1p4TOZ4/s50-c-k-no/photo.jpg",
            "userId": "104632412090252973797"
          }
        }
      },
      "cell_type": "code",
      "source": [
        "print(X_train.shape)\n",
        "print(y_train.shape)"
      ],
      "execution_count": 11,
      "outputs": [
        {
          "output_type": "stream",
          "text": [
            "(28709, 48, 48, 1)\n",
            "(28709, 7)\n"
          ],
          "name": "stdout"
        }
      ]
    },
    {
      "metadata": {
        "id": "UmucYGCN5ZuX",
        "colab_type": "code",
        "colab": {
          "autoexec": {
            "startup": false,
            "wait_interval": 0
          }
        }
      },
      "cell_type": "code",
      "source": [
        "model = Sequential()"
      ],
      "execution_count": 0,
      "outputs": []
    },
    {
      "metadata": {
        "id": "o6nIED2H5cUF",
        "colab_type": "code",
        "colab": {
          "autoexec": {
            "startup": false,
            "wait_interval": 0
          }
        }
      },
      "cell_type": "code",
      "source": [
        "# =============================================================================\n",
        "# Section 1\n",
        "# =============================================================================\n",
        "model.add(Convolution2D(128,(4,4),input_shape=(48,48,1),strides = 1))\n",
        "model.add(BatchNormalization(axis=-1))\n",
        "model.add(Activation('relu'))\n",
        "model.add(Dropout(0.2))\n",
        "\n",
        "# =============================================================================\n",
        "# Section 2\n",
        "# =============================================================================\n",
        "model.add(Convolution2D(128,(4,4),strides = 1))\n",
        "model.add(BatchNormalization(axis=-1))\n",
        "model.add(Activation('relu'))\n",
        "\n",
        "# =============================================================================\n",
        "# Section 3\n",
        "# =============================================================================\n",
        "model.add(Convolution2D(128,(4,4),strides = 1))\n",
        "model.add(BatchNormalization(axis=-1))\n",
        "model.add(Activation('relu'))\n",
        "model.add(MaxPooling2D(pool_size=(2,2),strides = 2))\n",
        "model.add(Dropout(0.2))\n",
        "\n",
        "# =============================================================================\n",
        "# Section 4\n",
        "# =============================================================================\n",
        "model.add(Convolution2D(128,(4,4),strides = 1))\n",
        "model.add(BatchNormalization(axis=-1))\n",
        "model.add(Activation('relu'))\n",
        "\n",
        "# =============================================================================\n",
        "# Section 5\n",
        "# =============================================================================\n",
        "model.add(Convolution2D(128,(4,4),strides = 1))\n",
        "model.add(BatchNormalization(axis=-1))\n",
        "model.add(Activation('relu'))\n",
        "model.add(MaxPooling2D(pool_size=(2,2),strides = 2))\n",
        "model.add(Dropout(0.2))\n",
        "\n",
        "# =============================================================================\n",
        "# Section 6\n",
        "# =============================================================================\n",
        "model.add(Convolution2D(128,(4,4),strides = 1))\n",
        "model.add(BatchNormalization(axis=-1))\n",
        "model.add(Activation('relu'))\n",
        "\n",
        "# =============================================================================\n",
        "# Section 7\n",
        "# =============================================================================\n",
        "model.add(Convolution2D(128,(2,2),strides = 1))\n",
        "model.add(BatchNormalization(axis=-1))\n",
        "model.add(Activation('relu'))\n",
        "model.add(MaxPooling2D(pool_size=(2,2),strides = 2))\n",
        "model.add(Dropout(0.2))\n",
        "\n",
        "\n",
        "model.add(Flatten())\n",
        "\n",
        "# =============================================================================\n",
        "# Section 8\n",
        "# =============================================================================\n",
        "model.add(Dense(1024))\n",
        "model.add(BatchNormalization(axis=-1))\n",
        "model.add(Activation('relu'))\n",
        "model.add(Dropout(0.2))\n",
        "\n",
        "# =============================================================================\n",
        "# Section 9\n",
        "# =============================================================================\n",
        "model.add(Dense(1024))\n",
        "model.add(BatchNormalization(axis=-1))\n",
        "model.add(Activation('relu'))\n",
        "model.add(Dropout(0.2))\n",
        "\n",
        "# =============================================================================\n",
        "# Section 10\n",
        "# =============================================================================\n",
        "model.add(Dense(classes, activation='softmax'))"
      ],
      "execution_count": 0,
      "outputs": []
    },
    {
      "metadata": {
        "id": "NW7nFGwE5guF",
        "colab_type": "code",
        "colab": {
          "autoexec": {
            "startup": false,
            "wait_interval": 0
          },
          "base_uri": "https://localhost:8080/",
          "height": 1428
        },
        "outputId": "2a888552-e9e7-48f6-93e1-c44820a8058d",
        "executionInfo": {
          "status": "ok",
          "timestamp": 1523570848515,
          "user_tz": -330,
          "elapsed": 672,
          "user": {
            "displayName": "Devesh Saini",
            "photoUrl": "//lh5.googleusercontent.com/-ULsfV-SFjXw/AAAAAAAAAAI/AAAAAAAAFG4/vbqK1p4TOZ4/s50-c-k-no/photo.jpg",
            "userId": "104632412090252973797"
          }
        }
      },
      "cell_type": "code",
      "source": [
        "model.summary()\n"
      ],
      "execution_count": 14,
      "outputs": [
        {
          "output_type": "stream",
          "text": [
            "_________________________________________________________________\n",
            "Layer (type)                 Output Shape              Param #   \n",
            "=================================================================\n",
            "conv2d_1 (Conv2D)            (None, 45, 45, 128)       2176      \n",
            "_________________________________________________________________\n",
            "batch_normalization_1 (Batch (None, 45, 45, 128)       512       \n",
            "_________________________________________________________________\n",
            "activation_1 (Activation)    (None, 45, 45, 128)       0         \n",
            "_________________________________________________________________\n",
            "dropout_1 (Dropout)          (None, 45, 45, 128)       0         \n",
            "_________________________________________________________________\n",
            "conv2d_2 (Conv2D)            (None, 42, 42, 128)       262272    \n",
            "_________________________________________________________________\n",
            "batch_normalization_2 (Batch (None, 42, 42, 128)       512       \n",
            "_________________________________________________________________\n",
            "activation_2 (Activation)    (None, 42, 42, 128)       0         \n",
            "_________________________________________________________________\n",
            "conv2d_3 (Conv2D)            (None, 39, 39, 128)       262272    \n",
            "_________________________________________________________________\n",
            "batch_normalization_3 (Batch (None, 39, 39, 128)       512       \n",
            "_________________________________________________________________\n",
            "activation_3 (Activation)    (None, 39, 39, 128)       0         \n",
            "_________________________________________________________________\n",
            "max_pooling2d_1 (MaxPooling2 (None, 19, 19, 128)       0         \n",
            "_________________________________________________________________\n",
            "dropout_2 (Dropout)          (None, 19, 19, 128)       0         \n",
            "_________________________________________________________________\n",
            "conv2d_4 (Conv2D)            (None, 16, 16, 128)       262272    \n",
            "_________________________________________________________________\n",
            "batch_normalization_4 (Batch (None, 16, 16, 128)       512       \n",
            "_________________________________________________________________\n",
            "activation_4 (Activation)    (None, 16, 16, 128)       0         \n",
            "_________________________________________________________________\n",
            "conv2d_5 (Conv2D)            (None, 13, 13, 128)       262272    \n",
            "_________________________________________________________________\n",
            "batch_normalization_5 (Batch (None, 13, 13, 128)       512       \n",
            "_________________________________________________________________\n",
            "activation_5 (Activation)    (None, 13, 13, 128)       0         \n",
            "_________________________________________________________________\n",
            "max_pooling2d_2 (MaxPooling2 (None, 6, 6, 128)         0         \n",
            "_________________________________________________________________\n",
            "dropout_3 (Dropout)          (None, 6, 6, 128)         0         \n",
            "_________________________________________________________________\n",
            "conv2d_6 (Conv2D)            (None, 3, 3, 128)         262272    \n",
            "_________________________________________________________________\n",
            "batch_normalization_6 (Batch (None, 3, 3, 128)         512       \n",
            "_________________________________________________________________\n",
            "activation_6 (Activation)    (None, 3, 3, 128)         0         \n",
            "_________________________________________________________________\n",
            "conv2d_7 (Conv2D)            (None, 2, 2, 128)         65664     \n",
            "_________________________________________________________________\n",
            "batch_normalization_7 (Batch (None, 2, 2, 128)         512       \n",
            "_________________________________________________________________\n",
            "activation_7 (Activation)    (None, 2, 2, 128)         0         \n",
            "_________________________________________________________________\n",
            "max_pooling2d_3 (MaxPooling2 (None, 1, 1, 128)         0         \n",
            "_________________________________________________________________\n",
            "dropout_4 (Dropout)          (None, 1, 1, 128)         0         \n",
            "_________________________________________________________________\n",
            "flatten_1 (Flatten)          (None, 128)               0         \n",
            "_________________________________________________________________\n",
            "dense_1 (Dense)              (None, 1024)              132096    \n",
            "_________________________________________________________________\n",
            "batch_normalization_8 (Batch (None, 1024)              4096      \n",
            "_________________________________________________________________\n",
            "activation_8 (Activation)    (None, 1024)              0         \n",
            "_________________________________________________________________\n",
            "dropout_5 (Dropout)          (None, 1024)              0         \n",
            "_________________________________________________________________\n",
            "dense_2 (Dense)              (None, 1024)              1049600   \n",
            "_________________________________________________________________\n",
            "batch_normalization_9 (Batch (None, 1024)              4096      \n",
            "_________________________________________________________________\n",
            "activation_9 (Activation)    (None, 1024)              0         \n",
            "_________________________________________________________________\n",
            "dropout_6 (Dropout)          (None, 1024)              0         \n",
            "_________________________________________________________________\n",
            "dense_3 (Dense)              (None, 7)                 7175      \n",
            "=================================================================\n",
            "Total params: 2,579,847\n",
            "Trainable params: 2,573,959\n",
            "Non-trainable params: 5,888\n",
            "_________________________________________________________________\n"
          ],
          "name": "stdout"
        }
      ]
    },
    {
      "metadata": {
        "id": "RmdrZ9_C5jAT",
        "colab_type": "code",
        "colab": {
          "autoexec": {
            "startup": false,
            "wait_interval": 0
          }
        }
      },
      "cell_type": "code",
      "source": [
        "model.compile(loss='categorical_crossentropy',\n",
        "              optimizer='adam',\n",
        "              metrics=['accuracy'])"
      ],
      "execution_count": 0,
      "outputs": []
    },
    {
      "metadata": {
        "id": "ioZ0W8jp5oMC",
        "colab_type": "code",
        "colab": {
          "autoexec": {
            "startup": false,
            "wait_interval": 0
          },
          "base_uri": "https://localhost:8080/",
          "height": 394
        },
        "outputId": "91ac7630-3f7f-4016-f512-3163c8d682be",
        "executionInfo": {
          "status": "ok",
          "timestamp": 1523572035079,
          "user_tz": -330,
          "elapsed": 1141787,
          "user": {
            "displayName": "Devesh Saini",
            "photoUrl": "//lh5.googleusercontent.com/-ULsfV-SFjXw/AAAAAAAAAAI/AAAAAAAAFG4/vbqK1p4TOZ4/s50-c-k-no/photo.jpg",
            "userId": "104632412090252973797"
          }
        }
      },
      "cell_type": "code",
      "source": [
        "model.fit(X_train, y_train, \n",
        "          batch_size=128, epochs=10, verbose=1)"
      ],
      "execution_count": 16,
      "outputs": [
        {
          "output_type": "stream",
          "text": [
            "Epoch 1/10\n",
            "28709/28709 [==============================] - 117s 4ms/step - loss: 1.8927 - acc: 0.2628\n",
            "Epoch 2/10\n",
            "28709/28709 [==============================] - 113s 4ms/step - loss: 1.5712 - acc: 0.4083\n",
            "Epoch 3/10\n",
            "14592/28709 [==============>...............] - ETA: 55s - loss: 1.4109 - acc: 0.4627"
          ],
          "name": "stdout"
        },
        {
          "output_type": "stream",
          "text": [
            "28709/28709 [==============================] - 113s 4ms/step - loss: 1.3870 - acc: 0.4734\n",
            "Epoch 4/10\n",
            "28709/28709 [==============================] - 113s 4ms/step - loss: 1.2953 - acc: 0.5134\n",
            "Epoch 5/10\n",
            "21632/28709 [=====================>........] - ETA: 27s - loss: 1.2212 - acc: 0.5415"
          ],
          "name": "stdout"
        },
        {
          "output_type": "stream",
          "text": [
            "28709/28709 [==============================] - 113s 4ms/step - loss: 1.2157 - acc: 0.5426\n",
            "Epoch 6/10\n",
            "28709/28709 [==============================] - 114s 4ms/step - loss: 1.1540 - acc: 0.5681\n",
            "Epoch 7/10\n",
            "23680/28709 [=======================>......] - ETA: 19s - loss: 1.1007 - acc: 0.5877"
          ],
          "name": "stdout"
        },
        {
          "output_type": "stream",
          "text": [
            "28709/28709 [==============================] - 114s 4ms/step - loss: 1.1040 - acc: 0.5877\n",
            "Epoch 8/10\n",
            "28709/28709 [==============================] - 114s 4ms/step - loss: 1.0576 - acc: 0.6077\n",
            "Epoch 9/10\n",
            "24320/28709 [========================>.....] - ETA: 17s - loss: 1.0159 - acc: 0.6221"
          ],
          "name": "stdout"
        },
        {
          "output_type": "stream",
          "text": [
            "28709/28709 [==============================] - 114s 4ms/step - loss: 1.0143 - acc: 0.6217\n",
            "Epoch 10/10\n",
            "28709/28709 [==============================] - 114s 4ms/step - loss: 0.9789 - acc: 0.6343\n"
          ],
          "name": "stdout"
        },
        {
          "output_type": "execute_result",
          "data": {
            "text/plain": [
              "<keras.callbacks.History at 0x7f39aecd5fd0>"
            ]
          },
          "metadata": {
            "tags": []
          },
          "execution_count": 16
        }
      ]
    },
    {
      "metadata": {
        "id": "5AW58eFQ5uGg",
        "colab_type": "code",
        "colab": {
          "autoexec": {
            "startup": false,
            "wait_interval": 0
          },
          "base_uri": "https://localhost:8080/",
          "height": 34
        },
        "outputId": "06c02e3c-bf62-4992-9ce6-17d7a6d2f69a",
        "executionInfo": {
          "status": "ok",
          "timestamp": 1523572056864,
          "user_tz": -330,
          "elapsed": 13500,
          "user": {
            "displayName": "Devesh Saini",
            "photoUrl": "//lh5.googleusercontent.com/-ULsfV-SFjXw/AAAAAAAAAAI/AAAAAAAAFG4/vbqK1p4TOZ4/s50-c-k-no/photo.jpg",
            "userId": "104632412090252973797"
          }
        }
      },
      "cell_type": "code",
      "source": [
        "score = model.evaluate(X_test, y_test, verbose=1)"
      ],
      "execution_count": 17,
      "outputs": [
        {
          "output_type": "stream",
          "text": [
            "7178/7178 [==============================] - 13s 2ms/step\n"
          ],
          "name": "stdout"
        }
      ]
    },
    {
      "metadata": {
        "id": "qrd6cxNs-G31",
        "colab_type": "code",
        "colab": {
          "autoexec": {
            "startup": false,
            "wait_interval": 0
          },
          "base_uri": "https://localhost:8080/",
          "height": 51
        },
        "outputId": "7faeb94e-3502-4e1c-f4a7-7d158e1a2972",
        "executionInfo": {
          "status": "ok",
          "timestamp": 1523572099479,
          "user_tz": -330,
          "elapsed": 1214,
          "user": {
            "displayName": "Devesh Saini",
            "photoUrl": "//lh5.googleusercontent.com/-ULsfV-SFjXw/AAAAAAAAAAI/AAAAAAAAFG4/vbqK1p4TOZ4/s50-c-k-no/photo.jpg",
            "userId": "104632412090252973797"
          }
        }
      },
      "cell_type": "code",
      "source": [
        "print(score)\n",
        "print('Accuracy = ' + str(score[1]))"
      ],
      "execution_count": 20,
      "outputs": [
        {
          "output_type": "stream",
          "text": [
            "[1.171685049247529, 0.5647812761380899]\n",
            "Accuracy = 0.5647812761380899\n"
          ],
          "name": "stdout"
        }
      ]
    }
  ]
}